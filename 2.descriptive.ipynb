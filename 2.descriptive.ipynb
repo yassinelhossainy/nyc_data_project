{
 "cells": [
  {
   "cell_type": "code",
   "execution_count": 1,
   "id": "645a06db",
   "metadata": {},
   "outputs": [],
   "source": [
    "import pandas as pd\n",
    "from sqlalchemy import create_engine\n",
    "from pathlib import Path\n",
    "import re\n",
    "import duckdb\n",
    "import numpy as np\n",
    "from scipy.stats import skew\n",
    "from funcz import StatWhiz\n",
    "import warnings\n",
    "import ipywidgets as widgets\n",
    "from IPython.display import display\n",
    "warnings.filterwarnings('ignore')\n",
    "engine = duckdb.connect('my_db.duckdb')"
   ]
  },
  {
   "cell_type": "markdown",
   "id": "f485aec6",
   "metadata": {},
   "source": [
    "## 2.1: Crime Rate Overview"
   ]
  },
  {
   "cell_type": "code",
   "execution_count": 2,
   "id": "16e5f493",
   "metadata": {},
   "outputs": [
    {
     "data": {
      "application/vnd.plotly.v1+json": {
       "config": {
        "plotlyServerURL": "https://plot.ly"
       },
       "data": [
        {
         "alignmentgroup": "True",
         "boxpoints": "all",
         "hovertemplate": "crime_rate=%{y}<extra></extra>",
         "legendgroup": "",
         "marker": {
          "color": "#636efa"
         },
         "name": "",
         "notched": false,
         "offsetgroup": "",
         "orientation": "v",
         "showlegend": false,
         "type": "box",
         "x0": " ",
         "xaxis": "x",
         "y": {
          "bdata": "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",
          "dtype": "f8"
         },
         "y0": " ",
         "yaxis": "y"
        }
       ],
       "layout": {
        "boxmode": "group",
        "legend": {
         "tracegroupgap": 0
        },
        "template": {
         "data": {
          "bar": [
           {
            "error_x": {
             "color": "#2a3f5f"
            },
            "error_y": {
             "color": "#2a3f5f"
            },
            "marker": {
             "line": {
              "color": "#E5ECF6",
              "width": 0.5
             },
             "pattern": {
              "fillmode": "overlay",
              "size": 10,
              "solidity": 0.2
             }
            },
            "type": "bar"
           }
          ],
          "barpolar": [
           {
            "marker": {
             "line": {
              "color": "#E5ECF6",
              "width": 0.5
             },
             "pattern": {
              "fillmode": "overlay",
              "size": 10,
              "solidity": 0.2
             }
            },
            "type": "barpolar"
           }
          ],
          "carpet": [
           {
            "aaxis": {
             "endlinecolor": "#2a3f5f",
             "gridcolor": "white",
             "linecolor": "white",
             "minorgridcolor": "white",
             "startlinecolor": "#2a3f5f"
            },
            "baxis": {
             "endlinecolor": "#2a3f5f",
             "gridcolor": "white",
             "linecolor": "white",
             "minorgridcolor": "white",
             "startlinecolor": "#2a3f5f"
            },
            "type": "carpet"
           }
          ],
          "choropleth": [
           {
            "colorbar": {
             "outlinewidth": 0,
             "ticks": ""
            },
            "type": "choropleth"
           }
          ],
          "contour": [
           {
            "colorbar": {
             "outlinewidth": 0,
             "ticks": ""
            },
            "colorscale": [
             [
              0,
              "#0d0887"
             ],
             [
              0.1111111111111111,
              "#46039f"
             ],
             [
              0.2222222222222222,
              "#7201a8"
             ],
             [
              0.3333333333333333,
              "#9c179e"
             ],
             [
              0.4444444444444444,
              "#bd3786"
             ],
             [
              0.5555555555555556,
              "#d8576b"
             ],
             [
              0.6666666666666666,
              "#ed7953"
             ],
             [
              0.7777777777777778,
              "#fb9f3a"
             ],
             [
              0.8888888888888888,
              "#fdca26"
             ],
             [
              1,
              "#f0f921"
             ]
            ],
            "type": "contour"
           }
          ],
          "contourcarpet": [
           {
            "colorbar": {
             "outlinewidth": 0,
             "ticks": ""
            },
            "type": "contourcarpet"
           }
          ],
          "heatmap": [
           {
            "colorbar": {
             "outlinewidth": 0,
             "ticks": ""
            },
            "colorscale": [
             [
              0,
              "#0d0887"
             ],
             [
              0.1111111111111111,
              "#46039f"
             ],
             [
              0.2222222222222222,
              "#7201a8"
             ],
             [
              0.3333333333333333,
              "#9c179e"
             ],
             [
              0.4444444444444444,
              "#bd3786"
             ],
             [
              0.5555555555555556,
              "#d8576b"
             ],
             [
              0.6666666666666666,
              "#ed7953"
             ],
             [
              0.7777777777777778,
              "#fb9f3a"
             ],
             [
              0.8888888888888888,
              "#fdca26"
             ],
             [
              1,
              "#f0f921"
             ]
            ],
            "type": "heatmap"
           }
          ],
          "histogram": [
           {
            "marker": {
             "pattern": {
              "fillmode": "overlay",
              "size": 10,
              "solidity": 0.2
             }
            },
            "type": "histogram"
           }
          ],
          "histogram2d": [
           {
            "colorbar": {
             "outlinewidth": 0,
             "ticks": ""
            },
            "colorscale": [
             [
              0,
              "#0d0887"
             ],
             [
              0.1111111111111111,
              "#46039f"
             ],
             [
              0.2222222222222222,
              "#7201a8"
             ],
             [
              0.3333333333333333,
              "#9c179e"
             ],
             [
              0.4444444444444444,
              "#bd3786"
             ],
             [
              0.5555555555555556,
              "#d8576b"
             ],
             [
              0.6666666666666666,
              "#ed7953"
             ],
             [
              0.7777777777777778,
              "#fb9f3a"
             ],
             [
              0.8888888888888888,
              "#fdca26"
             ],
             [
              1,
              "#f0f921"
             ]
            ],
            "type": "histogram2d"
           }
          ],
          "histogram2dcontour": [
           {
            "colorbar": {
             "outlinewidth": 0,
             "ticks": ""
            },
            "colorscale": [
             [
              0,
              "#0d0887"
             ],
             [
              0.1111111111111111,
              "#46039f"
             ],
             [
              0.2222222222222222,
              "#7201a8"
             ],
             [
              0.3333333333333333,
              "#9c179e"
             ],
             [
              0.4444444444444444,
              "#bd3786"
             ],
             [
              0.5555555555555556,
              "#d8576b"
             ],
             [
              0.6666666666666666,
              "#ed7953"
             ],
             [
              0.7777777777777778,
              "#fb9f3a"
             ],
             [
              0.8888888888888888,
              "#fdca26"
             ],
             [
              1,
              "#f0f921"
             ]
            ],
            "type": "histogram2dcontour"
           }
          ],
          "mesh3d": [
           {
            "colorbar": {
             "outlinewidth": 0,
             "ticks": ""
            },
            "type": "mesh3d"
           }
          ],
          "parcoords": [
           {
            "line": {
             "colorbar": {
              "outlinewidth": 0,
              "ticks": ""
             }
            },
            "type": "parcoords"
           }
          ],
          "pie": [
           {
            "automargin": true,
            "type": "pie"
           }
          ],
          "scatter": [
           {
            "fillpattern": {
             "fillmode": "overlay",
             "size": 10,
             "solidity": 0.2
            },
            "type": "scatter"
           }
          ],
          "scatter3d": [
           {
            "line": {
             "colorbar": {
              "outlinewidth": 0,
              "ticks": ""
             }
            },
            "marker": {
             "colorbar": {
              "outlinewidth": 0,
              "ticks": ""
             }
            },
            "type": "scatter3d"
           }
          ],
          "scattercarpet": [
           {
            "marker": {
             "colorbar": {
              "outlinewidth": 0,
              "ticks": ""
             }
            },
            "type": "scattercarpet"
           }
          ],
          "scattergeo": [
           {
            "marker": {
             "colorbar": {
              "outlinewidth": 0,
              "ticks": ""
             }
            },
            "type": "scattergeo"
           }
          ],
          "scattergl": [
           {
            "marker": {
             "colorbar": {
              "outlinewidth": 0,
              "ticks": ""
             }
            },
            "type": "scattergl"
           }
          ],
          "scattermap": [
           {
            "marker": {
             "colorbar": {
              "outlinewidth": 0,
              "ticks": ""
             }
            },
            "type": "scattermap"
           }
          ],
          "scattermapbox": [
           {
            "marker": {
             "colorbar": {
              "outlinewidth": 0,
              "ticks": ""
             }
            },
            "type": "scattermapbox"
           }
          ],
          "scatterpolar": [
           {
            "marker": {
             "colorbar": {
              "outlinewidth": 0,
              "ticks": ""
             }
            },
            "type": "scatterpolar"
           }
          ],
          "scatterpolargl": [
           {
            "marker": {
             "colorbar": {
              "outlinewidth": 0,
              "ticks": ""
             }
            },
            "type": "scatterpolargl"
           }
          ],
          "scatterternary": [
           {
            "marker": {
             "colorbar": {
              "outlinewidth": 0,
              "ticks": ""
             }
            },
            "type": "scatterternary"
           }
          ],
          "surface": [
           {
            "colorbar": {
             "outlinewidth": 0,
             "ticks": ""
            },
            "colorscale": [
             [
              0,
              "#0d0887"
             ],
             [
              0.1111111111111111,
              "#46039f"
             ],
             [
              0.2222222222222222,
              "#7201a8"
             ],
             [
              0.3333333333333333,
              "#9c179e"
             ],
             [
              0.4444444444444444,
              "#bd3786"
             ],
             [
              0.5555555555555556,
              "#d8576b"
             ],
             [
              0.6666666666666666,
              "#ed7953"
             ],
             [
              0.7777777777777778,
              "#fb9f3a"
             ],
             [
              0.8888888888888888,
              "#fdca26"
             ],
             [
              1,
              "#f0f921"
             ]
            ],
            "type": "surface"
           }
          ],
          "table": [
           {
            "cells": {
             "fill": {
              "color": "#EBF0F8"
             },
             "line": {
              "color": "white"
             }
            },
            "header": {
             "fill": {
              "color": "#C8D4E3"
             },
             "line": {
              "color": "white"
             }
            },
            "type": "table"
           }
          ]
         },
         "layout": {
          "annotationdefaults": {
           "arrowcolor": "#2a3f5f",
           "arrowhead": 0,
           "arrowwidth": 1
          },
          "autotypenumbers": "strict",
          "coloraxis": {
           "colorbar": {
            "outlinewidth": 0,
            "ticks": ""
           }
          },
          "colorscale": {
           "diverging": [
            [
             0,
             "#8e0152"
            ],
            [
             0.1,
             "#c51b7d"
            ],
            [
             0.2,
             "#de77ae"
            ],
            [
             0.3,
             "#f1b6da"
            ],
            [
             0.4,
             "#fde0ef"
            ],
            [
             0.5,
             "#f7f7f7"
            ],
            [
             0.6,
             "#e6f5d0"
            ],
            [
             0.7,
             "#b8e186"
            ],
            [
             0.8,
             "#7fbc41"
            ],
            [
             0.9,
             "#4d9221"
            ],
            [
             1,
             "#276419"
            ]
           ],
           "sequential": [
            [
             0,
             "#0d0887"
            ],
            [
             0.1111111111111111,
             "#46039f"
            ],
            [
             0.2222222222222222,
             "#7201a8"
            ],
            [
             0.3333333333333333,
             "#9c179e"
            ],
            [
             0.4444444444444444,
             "#bd3786"
            ],
            [
             0.5555555555555556,
             "#d8576b"
            ],
            [
             0.6666666666666666,
             "#ed7953"
            ],
            [
             0.7777777777777778,
             "#fb9f3a"
            ],
            [
             0.8888888888888888,
             "#fdca26"
            ],
            [
             1,
             "#f0f921"
            ]
           ],
           "sequentialminus": [
            [
             0,
             "#0d0887"
            ],
            [
             0.1111111111111111,
             "#46039f"
            ],
            [
             0.2222222222222222,
             "#7201a8"
            ],
            [
             0.3333333333333333,
             "#9c179e"
            ],
            [
             0.4444444444444444,
             "#bd3786"
            ],
            [
             0.5555555555555556,
             "#d8576b"
            ],
            [
             0.6666666666666666,
             "#ed7953"
            ],
            [
             0.7777777777777778,
             "#fb9f3a"
            ],
            [
             0.8888888888888888,
             "#fdca26"
            ],
            [
             1,
             "#f0f921"
            ]
           ]
          },
          "colorway": [
           "#636efa",
           "#EF553B",
           "#00cc96",
           "#ab63fa",
           "#FFA15A",
           "#19d3f3",
           "#FF6692",
           "#B6E880",
           "#FF97FF",
           "#FECB52"
          ],
          "font": {
           "color": "#2a3f5f"
          },
          "geo": {
           "bgcolor": "white",
           "lakecolor": "white",
           "landcolor": "#E5ECF6",
           "showlakes": true,
           "showland": true,
           "subunitcolor": "white"
          },
          "hoverlabel": {
           "align": "left"
          },
          "hovermode": "closest",
          "mapbox": {
           "style": "light"
          },
          "paper_bgcolor": "white",
          "plot_bgcolor": "#E5ECF6",
          "polar": {
           "angularaxis": {
            "gridcolor": "white",
            "linecolor": "white",
            "ticks": ""
           },
           "bgcolor": "#E5ECF6",
           "radialaxis": {
            "gridcolor": "white",
            "linecolor": "white",
            "ticks": ""
           }
          },
          "scene": {
           "xaxis": {
            "backgroundcolor": "#E5ECF6",
            "gridcolor": "white",
            "gridwidth": 2,
            "linecolor": "white",
            "showbackground": true,
            "ticks": "",
            "zerolinecolor": "white"
           },
           "yaxis": {
            "backgroundcolor": "#E5ECF6",
            "gridcolor": "white",
            "gridwidth": 2,
            "linecolor": "white",
            "showbackground": true,
            "ticks": "",
            "zerolinecolor": "white"
           },
           "zaxis": {
            "backgroundcolor": "#E5ECF6",
            "gridcolor": "white",
            "gridwidth": 2,
            "linecolor": "white",
            "showbackground": true,
            "ticks": "",
            "zerolinecolor": "white"
           }
          },
          "shapedefaults": {
           "line": {
            "color": "#2a3f5f"
           }
          },
          "ternary": {
           "aaxis": {
            "gridcolor": "white",
            "linecolor": "white",
            "ticks": ""
           },
           "baxis": {
            "gridcolor": "white",
            "linecolor": "white",
            "ticks": ""
           },
           "bgcolor": "#E5ECF6",
           "caxis": {
            "gridcolor": "white",
            "linecolor": "white",
            "ticks": ""
           }
          },
          "title": {
           "x": 0.05
          },
          "xaxis": {
           "automargin": true,
           "gridcolor": "white",
           "linecolor": "white",
           "ticks": "",
           "title": {
            "standoff": 15
           },
           "zerolinecolor": "white",
           "zerolinewidth": 2
          },
          "yaxis": {
           "automargin": true,
           "gridcolor": "white",
           "linecolor": "white",
           "ticks": "",
           "title": {
            "standoff": 15
           },
           "zerolinecolor": "white",
           "zerolinewidth": 2
          }
         }
        },
        "title": {
         "text": "Box Plot with Outliers"
        },
        "xaxis": {
         "anchor": "y",
         "domain": [
          0,
          1
         ]
        },
        "yaxis": {
         "anchor": "x",
         "domain": [
          0,
          1
         ],
         "title": {
          "text": "crime_rate"
         }
        }
       }
      }
     },
     "metadata": {},
     "output_type": "display_data"
    },
    {
     "data": {
      "application/vnd.plotly.v1+json": {
       "config": {
        "plotlyServerURL": "https://plot.ly"
       },
       "data": [
        {
         "cells": {
          "align": "left",
          "fill": {
           "color": "white"
          },
          "values": [
           [
            "count",
            "mean",
            "std",
            "min",
            "25%",
            "50%",
            "75%",
            "max"
           ],
           [
            1062,
            7099.045197740113,
            2977.506015459772,
            1399,
            5072.75,
            6556.5,
            8707.5,
            18049
           ],
           [
            1062,
            2015.5,
            5.190571819681201,
            2007,
            2011,
            2015.5,
            2020,
            2024
           ],
           [
            1062,
            5287.292859243982,
            2608.76722943145,
            908.7984070226988,
            3477.579634130183,
            4569.557660908962,
            6584.44250100221,
            15026.227270432157
           ]
          ]
         },
         "header": {
          "align": "left",
          "fill": {
           "color": "lightgrey"
          },
          "values": [
           "index",
           "crimes",
           "year",
           "crime_rate"
          ]
         },
         "type": "table"
        }
       ],
       "layout": {
        "template": {
         "data": {
          "bar": [
           {
            "error_x": {
             "color": "#2a3f5f"
            },
            "error_y": {
             "color": "#2a3f5f"
            },
            "marker": {
             "line": {
              "color": "#E5ECF6",
              "width": 0.5
             },
             "pattern": {
              "fillmode": "overlay",
              "size": 10,
              "solidity": 0.2
             }
            },
            "type": "bar"
           }
          ],
          "barpolar": [
           {
            "marker": {
             "line": {
              "color": "#E5ECF6",
              "width": 0.5
             },
             "pattern": {
              "fillmode": "overlay",
              "size": 10,
              "solidity": 0.2
             }
            },
            "type": "barpolar"
           }
          ],
          "carpet": [
           {
            "aaxis": {
             "endlinecolor": "#2a3f5f",
             "gridcolor": "white",
             "linecolor": "white",
             "minorgridcolor": "white",
             "startlinecolor": "#2a3f5f"
            },
            "baxis": {
             "endlinecolor": "#2a3f5f",
             "gridcolor": "white",
             "linecolor": "white",
             "minorgridcolor": "white",
             "startlinecolor": "#2a3f5f"
            },
            "type": "carpet"
           }
          ],
          "choropleth": [
           {
            "colorbar": {
             "outlinewidth": 0,
             "ticks": ""
            },
            "type": "choropleth"
           }
          ],
          "contour": [
           {
            "colorbar": {
             "outlinewidth": 0,
             "ticks": ""
            },
            "colorscale": [
             [
              0,
              "#0d0887"
             ],
             [
              0.1111111111111111,
              "#46039f"
             ],
             [
              0.2222222222222222,
              "#7201a8"
             ],
             [
              0.3333333333333333,
              "#9c179e"
             ],
             [
              0.4444444444444444,
              "#bd3786"
             ],
             [
              0.5555555555555556,
              "#d8576b"
             ],
             [
              0.6666666666666666,
              "#ed7953"
             ],
             [
              0.7777777777777778,
              "#fb9f3a"
             ],
             [
              0.8888888888888888,
              "#fdca26"
             ],
             [
              1,
              "#f0f921"
             ]
            ],
            "type": "contour"
           }
          ],
          "contourcarpet": [
           {
            "colorbar": {
             "outlinewidth": 0,
             "ticks": ""
            },
            "type": "contourcarpet"
           }
          ],
          "heatmap": [
           {
            "colorbar": {
             "outlinewidth": 0,
             "ticks": ""
            },
            "colorscale": [
             [
              0,
              "#0d0887"
             ],
             [
              0.1111111111111111,
              "#46039f"
             ],
             [
              0.2222222222222222,
              "#7201a8"
             ],
             [
              0.3333333333333333,
              "#9c179e"
             ],
             [
              0.4444444444444444,
              "#bd3786"
             ],
             [
              0.5555555555555556,
              "#d8576b"
             ],
             [
              0.6666666666666666,
              "#ed7953"
             ],
             [
              0.7777777777777778,
              "#fb9f3a"
             ],
             [
              0.8888888888888888,
              "#fdca26"
             ],
             [
              1,
              "#f0f921"
             ]
            ],
            "type": "heatmap"
           }
          ],
          "histogram": [
           {
            "marker": {
             "pattern": {
              "fillmode": "overlay",
              "size": 10,
              "solidity": 0.2
             }
            },
            "type": "histogram"
           }
          ],
          "histogram2d": [
           {
            "colorbar": {
             "outlinewidth": 0,
             "ticks": ""
            },
            "colorscale": [
             [
              0,
              "#0d0887"
             ],
             [
              0.1111111111111111,
              "#46039f"
             ],
             [
              0.2222222222222222,
              "#7201a8"
             ],
             [
              0.3333333333333333,
              "#9c179e"
             ],
             [
              0.4444444444444444,
              "#bd3786"
             ],
             [
              0.5555555555555556,
              "#d8576b"
             ],
             [
              0.6666666666666666,
              "#ed7953"
             ],
             [
              0.7777777777777778,
              "#fb9f3a"
             ],
             [
              0.8888888888888888,
              "#fdca26"
             ],
             [
              1,
              "#f0f921"
             ]
            ],
            "type": "histogram2d"
           }
          ],
          "histogram2dcontour": [
           {
            "colorbar": {
             "outlinewidth": 0,
             "ticks": ""
            },
            "colorscale": [
             [
              0,
              "#0d0887"
             ],
             [
              0.1111111111111111,
              "#46039f"
             ],
             [
              0.2222222222222222,
              "#7201a8"
             ],
             [
              0.3333333333333333,
              "#9c179e"
             ],
             [
              0.4444444444444444,
              "#bd3786"
             ],
             [
              0.5555555555555556,
              "#d8576b"
             ],
             [
              0.6666666666666666,
              "#ed7953"
             ],
             [
              0.7777777777777778,
              "#fb9f3a"
             ],
             [
              0.8888888888888888,
              "#fdca26"
             ],
             [
              1,
              "#f0f921"
             ]
            ],
            "type": "histogram2dcontour"
           }
          ],
          "mesh3d": [
           {
            "colorbar": {
             "outlinewidth": 0,
             "ticks": ""
            },
            "type": "mesh3d"
           }
          ],
          "parcoords": [
           {
            "line": {
             "colorbar": {
              "outlinewidth": 0,
              "ticks": ""
             }
            },
            "type": "parcoords"
           }
          ],
          "pie": [
           {
            "automargin": true,
            "type": "pie"
           }
          ],
          "scatter": [
           {
            "fillpattern": {
             "fillmode": "overlay",
             "size": 10,
             "solidity": 0.2
            },
            "type": "scatter"
           }
          ],
          "scatter3d": [
           {
            "line": {
             "colorbar": {
              "outlinewidth": 0,
              "ticks": ""
             }
            },
            "marker": {
             "colorbar": {
              "outlinewidth": 0,
              "ticks": ""
             }
            },
            "type": "scatter3d"
           }
          ],
          "scattercarpet": [
           {
            "marker": {
             "colorbar": {
              "outlinewidth": 0,
              "ticks": ""
             }
            },
            "type": "scattercarpet"
           }
          ],
          "scattergeo": [
           {
            "marker": {
             "colorbar": {
              "outlinewidth": 0,
              "ticks": ""
             }
            },
            "type": "scattergeo"
           }
          ],
          "scattergl": [
           {
            "marker": {
             "colorbar": {
              "outlinewidth": 0,
              "ticks": ""
             }
            },
            "type": "scattergl"
           }
          ],
          "scattermap": [
           {
            "marker": {
             "colorbar": {
              "outlinewidth": 0,
              "ticks": ""
             }
            },
            "type": "scattermap"
           }
          ],
          "scattermapbox": [
           {
            "marker": {
             "colorbar": {
              "outlinewidth": 0,
              "ticks": ""
             }
            },
            "type": "scattermapbox"
           }
          ],
          "scatterpolar": [
           {
            "marker": {
             "colorbar": {
              "outlinewidth": 0,
              "ticks": ""
             }
            },
            "type": "scatterpolar"
           }
          ],
          "scatterpolargl": [
           {
            "marker": {
             "colorbar": {
              "outlinewidth": 0,
              "ticks": ""
             }
            },
            "type": "scatterpolargl"
           }
          ],
          "scatterternary": [
           {
            "marker": {
             "colorbar": {
              "outlinewidth": 0,
              "ticks": ""
             }
            },
            "type": "scatterternary"
           }
          ],
          "surface": [
           {
            "colorbar": {
             "outlinewidth": 0,
             "ticks": ""
            },
            "colorscale": [
             [
              0,
              "#0d0887"
             ],
             [
              0.1111111111111111,
              "#46039f"
             ],
             [
              0.2222222222222222,
              "#7201a8"
             ],
             [
              0.3333333333333333,
              "#9c179e"
             ],
             [
              0.4444444444444444,
              "#bd3786"
             ],
             [
              0.5555555555555556,
              "#d8576b"
             ],
             [
              0.6666666666666666,
              "#ed7953"
             ],
             [
              0.7777777777777778,
              "#fb9f3a"
             ],
             [
              0.8888888888888888,
              "#fdca26"
             ],
             [
              1,
              "#f0f921"
             ]
            ],
            "type": "surface"
           }
          ],
          "table": [
           {
            "cells": {
             "fill": {
              "color": "#EBF0F8"
             },
             "line": {
              "color": "white"
             }
            },
            "header": {
             "fill": {
              "color": "#C8D4E3"
             },
             "line": {
              "color": "white"
             }
            },
            "type": "table"
           }
          ]
         },
         "layout": {
          "annotationdefaults": {
           "arrowcolor": "#2a3f5f",
           "arrowhead": 0,
           "arrowwidth": 1
          },
          "autotypenumbers": "strict",
          "coloraxis": {
           "colorbar": {
            "outlinewidth": 0,
            "ticks": ""
           }
          },
          "colorscale": {
           "diverging": [
            [
             0,
             "#8e0152"
            ],
            [
             0.1,
             "#c51b7d"
            ],
            [
             0.2,
             "#de77ae"
            ],
            [
             0.3,
             "#f1b6da"
            ],
            [
             0.4,
             "#fde0ef"
            ],
            [
             0.5,
             "#f7f7f7"
            ],
            [
             0.6,
             "#e6f5d0"
            ],
            [
             0.7,
             "#b8e186"
            ],
            [
             0.8,
             "#7fbc41"
            ],
            [
             0.9,
             "#4d9221"
            ],
            [
             1,
             "#276419"
            ]
           ],
           "sequential": [
            [
             0,
             "#0d0887"
            ],
            [
             0.1111111111111111,
             "#46039f"
            ],
            [
             0.2222222222222222,
             "#7201a8"
            ],
            [
             0.3333333333333333,
             "#9c179e"
            ],
            [
             0.4444444444444444,
             "#bd3786"
            ],
            [
             0.5555555555555556,
             "#d8576b"
            ],
            [
             0.6666666666666666,
             "#ed7953"
            ],
            [
             0.7777777777777778,
             "#fb9f3a"
            ],
            [
             0.8888888888888888,
             "#fdca26"
            ],
            [
             1,
             "#f0f921"
            ]
           ],
           "sequentialminus": [
            [
             0,
             "#0d0887"
            ],
            [
             0.1111111111111111,
             "#46039f"
            ],
            [
             0.2222222222222222,
             "#7201a8"
            ],
            [
             0.3333333333333333,
             "#9c179e"
            ],
            [
             0.4444444444444444,
             "#bd3786"
            ],
            [
             0.5555555555555556,
             "#d8576b"
            ],
            [
             0.6666666666666666,
             "#ed7953"
            ],
            [
             0.7777777777777778,
             "#fb9f3a"
            ],
            [
             0.8888888888888888,
             "#fdca26"
            ],
            [
             1,
             "#f0f921"
            ]
           ]
          },
          "colorway": [
           "#636efa",
           "#EF553B",
           "#00cc96",
           "#ab63fa",
           "#FFA15A",
           "#19d3f3",
           "#FF6692",
           "#B6E880",
           "#FF97FF",
           "#FECB52"
          ],
          "font": {
           "color": "#2a3f5f"
          },
          "geo": {
           "bgcolor": "white",
           "lakecolor": "white",
           "landcolor": "#E5ECF6",
           "showlakes": true,
           "showland": true,
           "subunitcolor": "white"
          },
          "hoverlabel": {
           "align": "left"
          },
          "hovermode": "closest",
          "mapbox": {
           "style": "light"
          },
          "paper_bgcolor": "white",
          "plot_bgcolor": "#E5ECF6",
          "polar": {
           "angularaxis": {
            "gridcolor": "white",
            "linecolor": "white",
            "ticks": ""
           },
           "bgcolor": "#E5ECF6",
           "radialaxis": {
            "gridcolor": "white",
            "linecolor": "white",
            "ticks": ""
           }
          },
          "scene": {
           "xaxis": {
            "backgroundcolor": "#E5ECF6",
            "gridcolor": "white",
            "gridwidth": 2,
            "linecolor": "white",
            "showbackground": true,
            "ticks": "",
            "zerolinecolor": "white"
           },
           "yaxis": {
            "backgroundcolor": "#E5ECF6",
            "gridcolor": "white",
            "gridwidth": 2,
            "linecolor": "white",
            "showbackground": true,
            "ticks": "",
            "zerolinecolor": "white"
           },
           "zaxis": {
            "backgroundcolor": "#E5ECF6",
            "gridcolor": "white",
            "gridwidth": 2,
            "linecolor": "white",
            "showbackground": true,
            "ticks": "",
            "zerolinecolor": "white"
           }
          },
          "shapedefaults": {
           "line": {
            "color": "#2a3f5f"
           }
          },
          "ternary": {
           "aaxis": {
            "gridcolor": "white",
            "linecolor": "white",
            "ticks": ""
           },
           "baxis": {
            "gridcolor": "white",
            "linecolor": "white",
            "ticks": ""
           },
           "bgcolor": "#E5ECF6",
           "caxis": {
            "gridcolor": "white",
            "linecolor": "white",
            "ticks": ""
           }
          },
          "title": {
           "x": 0.05
          },
          "xaxis": {
           "automargin": true,
           "gridcolor": "white",
           "linecolor": "white",
           "ticks": "",
           "title": {
            "standoff": 15
           },
           "zerolinecolor": "white",
           "zerolinewidth": 2
          },
          "yaxis": {
           "automargin": true,
           "gridcolor": "white",
           "linecolor": "white",
           "ticks": "",
           "title": {
            "standoff": 15
           },
           "zerolinecolor": "white",
           "zerolinewidth": 2
          }
         }
        }
       }
      }
     },
     "metadata": {},
     "output_type": "display_data"
    }
   ],
   "source": [
    "stat_dude =  StatWhiz(pd.read_sql(con=engine, sql='''\n",
    "\n",
    "WITH crime_CTE AS (\n",
    "  SELECT community_board, CAST(YEAR AS int) AS year, SUM(crimes) AS crimes FROM (\n",
    "  SELECT \n",
    "  pd.community_board, \n",
    "  pd.precinct,\n",
    "  cd.YEAR,\n",
    "  crimes/COUNT(community_board) OVER(PARTITION BY cd.YEAR,pd.precinct) AS crimes\n",
    "  FROM precinct_data pd \n",
    "  LEFT JOIN (\n",
    "    select\n",
    "    cd.YEAR,\n",
    "    cd.pct,\n",
    "    SUM(count) AS crimes\n",
    "    FROM crime_data cd\n",
    "    --WHERE crime_category = 'major'\n",
    "    GROUP BY 1,2\n",
    "  ) cd ON pd.precinct  = cd.pct \n",
    ") sq GROUP BY 1,2\n",
    "),\n",
    "\n",
    "population_CTE AS (\n",
    "  SELECT \n",
    "  CAST(dd.YEAR AS int) AS year,\n",
    "  dd.community_board,\n",
    "  SUM(dd.value) AS population\n",
    "  FROM demo_data dd \n",
    "  WHERE metric = 'Population'\n",
    "  GROUP BY 1,2\n",
    "\n",
    ")\n",
    "\n",
    "  SELECT \n",
    "  c.community_board,\n",
    "  c.crimes,\n",
    "  c.YEAR,\n",
    "  c.crimes/p.population * 100000 AS crime_rate\n",
    "  FROM crime_CTE c\n",
    "  LEFT JOIN population_CTE p ON c.YEAR = p.YEAR AND c.community_board = p.community_board\n",
    "  WHERE c.YEAR >= 2007\n",
    "\n",
    "\n",
    "\n",
    "\n",
    "''')\n",
    ")\n",
    "\n",
    "\n",
    "stat_dude.box_plot(y=\"crime_rate\")\n",
    "stat_dude.describe_table()"
   ]
  },
  {
   "cell_type": "markdown",
   "id": "0ac0fe23",
   "metadata": {},
   "source": [
    "## Crime Rate Over Time"
   ]
  },
  {
   "cell_type": "code",
   "execution_count": 2,
   "id": "ffa129b7",
   "metadata": {},
   "outputs": [
    {
     "ename": "NameError",
     "evalue": "name 'StatWhiz' is not defined",
     "output_type": "error",
     "traceback": [
      "\u001b[1;31m---------------------------------------------------------------------------\u001b[0m",
      "\u001b[1;31mNameError\u001b[0m                                 Traceback (most recent call last)",
      "Cell \u001b[1;32mIn[2], line 1\u001b[0m\n\u001b[1;32m----> 1\u001b[0m stat_dude \u001b[38;5;241m=\u001b[39m  \u001b[43mStatWhiz\u001b[49m(pd\u001b[38;5;241m.\u001b[39mread_sql(con\u001b[38;5;241m=\u001b[39mengine, sql\u001b[38;5;241m=\u001b[39m\u001b[38;5;124m'''\u001b[39m\n\u001b[0;32m      2\u001b[0m \n\u001b[0;32m      3\u001b[0m \u001b[38;5;124mWITH crime_CTE AS (\u001b[39m\n\u001b[0;32m      4\u001b[0m \u001b[38;5;124m  SELECT community_board, CAST(YEAR AS int) AS year, SUM(crimes) AS crimes FROM (\u001b[39m\n\u001b[0;32m      5\u001b[0m \u001b[38;5;124m  SELECT \u001b[39m\n\u001b[0;32m      6\u001b[0m \u001b[38;5;124m  pd.community_board, \u001b[39m\n\u001b[0;32m      7\u001b[0m \u001b[38;5;124m  pd.precinct,\u001b[39m\n\u001b[0;32m      8\u001b[0m \u001b[38;5;124m  cd.YEAR,\u001b[39m\n\u001b[0;32m      9\u001b[0m \u001b[38;5;124m  crimes/COUNT(community_board) OVER(PARTITION BY cd.YEAR,pd.precinct) AS crimes\u001b[39m\n\u001b[0;32m     10\u001b[0m \u001b[38;5;124m  FROM precinct_data pd \u001b[39m\n\u001b[0;32m     11\u001b[0m \u001b[38;5;124m  LEFT JOIN (\u001b[39m\n\u001b[0;32m     12\u001b[0m \u001b[38;5;124m    select\u001b[39m\n\u001b[0;32m     13\u001b[0m \u001b[38;5;124m    cd.YEAR,\u001b[39m\n\u001b[0;32m     14\u001b[0m \u001b[38;5;124m    cd.pct,\u001b[39m\n\u001b[0;32m     15\u001b[0m \u001b[38;5;124m    SUM(count) AS crimes\u001b[39m\n\u001b[0;32m     16\u001b[0m \u001b[38;5;124m    FROM crime_data cd\u001b[39m\n\u001b[0;32m     17\u001b[0m \u001b[38;5;124m    --WHERE crime_category = \u001b[39m\u001b[38;5;124m'\u001b[39m\u001b[38;5;124mmajor\u001b[39m\u001b[38;5;124m'\u001b[39m\n\u001b[0;32m     18\u001b[0m \u001b[38;5;124m    GROUP BY 1,2\u001b[39m\n\u001b[0;32m     19\u001b[0m \u001b[38;5;124m  ) cd ON pd.precinct  = cd.pct \u001b[39m\n\u001b[0;32m     20\u001b[0m \u001b[38;5;124m) sq GROUP BY 1,2\u001b[39m\n\u001b[0;32m     21\u001b[0m \u001b[38;5;124m),\u001b[39m\n\u001b[0;32m     22\u001b[0m \n\u001b[0;32m     23\u001b[0m \u001b[38;5;124mpopulation_CTE AS (\u001b[39m\n\u001b[0;32m     24\u001b[0m \u001b[38;5;124m  SELECT \u001b[39m\n\u001b[0;32m     25\u001b[0m \u001b[38;5;124m  CAST(dd.YEAR AS int) AS year,\u001b[39m\n\u001b[0;32m     26\u001b[0m \u001b[38;5;124m  dd.community_board,\u001b[39m\n\u001b[0;32m     27\u001b[0m \u001b[38;5;124m  SUM(dd.value) AS population\u001b[39m\n\u001b[0;32m     28\u001b[0m \u001b[38;5;124m  FROM demo_data dd \u001b[39m\n\u001b[0;32m     29\u001b[0m \u001b[38;5;124m  WHERE metric = \u001b[39m\u001b[38;5;124m'\u001b[39m\u001b[38;5;124mPopulation\u001b[39m\u001b[38;5;124m'\u001b[39m\n\u001b[0;32m     30\u001b[0m \u001b[38;5;124m  GROUP BY 1,2\u001b[39m\n\u001b[0;32m     31\u001b[0m \n\u001b[0;32m     32\u001b[0m \u001b[38;5;124m)\u001b[39m\n\u001b[0;32m     33\u001b[0m \u001b[38;5;124mSELECT DISTINCT YEAR, yearly_crime_rate, AVG(crime_rate) AS average_crime_rate FROM (\u001b[39m\n\u001b[0;32m     34\u001b[0m \u001b[38;5;124m  SELECT \u001b[39m\n\u001b[0;32m     35\u001b[0m \u001b[38;5;124m  c.community_board,\u001b[39m\n\u001b[0;32m     36\u001b[0m \u001b[38;5;124m  c.crimes,\u001b[39m\n\u001b[0;32m     37\u001b[0m \u001b[38;5;124m  c.YEAR,\u001b[39m\n\u001b[0;32m     38\u001b[0m \u001b[38;5;124m  p.population,\u001b[39m\n\u001b[0;32m     39\u001b[0m \u001b[38;5;124m  SUM(crimes) OVER(PARTITION BY c.year)/SUM(p.population) OVER(PARTITION BY c.year) * 100000 AS yearly_crime_rate,\u001b[39m\n\u001b[0;32m     40\u001b[0m \u001b[38;5;124m  c.crimes/p.population * 100000 AS crime_rate\u001b[39m\n\u001b[0;32m     41\u001b[0m \u001b[38;5;124m  FROM crime_CTE c\u001b[39m\n\u001b[0;32m     42\u001b[0m \u001b[38;5;124m  LEFT JOIN population_CTE p ON c.YEAR = p.YEAR AND c.community_board = p.community_board\u001b[39m\n\u001b[0;32m     43\u001b[0m \u001b[38;5;124m  WHERE c.YEAR >= 2007\u001b[39m\n\u001b[0;32m     44\u001b[0m \u001b[38;5;124m)\u001b[39m\n\u001b[0;32m     45\u001b[0m \n\u001b[0;32m     46\u001b[0m \u001b[38;5;124mGROUP BY 1,2\u001b[39m\n\u001b[0;32m     47\u001b[0m \u001b[38;5;124mORDER BY 1 \u001b[39m\n\u001b[0;32m     48\u001b[0m \n\u001b[0;32m     49\u001b[0m \n\u001b[0;32m     50\u001b[0m \n\u001b[0;32m     51\u001b[0m \n\u001b[0;32m     52\u001b[0m \u001b[38;5;124m'''\u001b[39m)\n\u001b[0;32m     53\u001b[0m )\n\u001b[0;32m     55\u001b[0m stat_dude\u001b[38;5;241m.\u001b[39mline_graph(x\u001b[38;5;241m=\u001b[39m\u001b[38;5;124m\"\u001b[39m\u001b[38;5;124myear\u001b[39m\u001b[38;5;124m\"\u001b[39m,y\u001b[38;5;241m=\u001b[39m[\u001b[38;5;124m\"\u001b[39m\u001b[38;5;124myearly_crime_rate\u001b[39m\u001b[38;5;124m\"\u001b[39m, \u001b[38;5;124m\"\u001b[39m\u001b[38;5;124maverage_crime_rate\u001b[39m\u001b[38;5;124m\"\u001b[39m],title\u001b[38;5;241m=\u001b[39m\u001b[38;5;124m\"\u001b[39m\u001b[38;5;124mCrime Rate Over Time\u001b[39m\u001b[38;5;124m\"\u001b[39m,show_labels\u001b[38;5;241m=\u001b[39m\u001b[38;5;28;01mFalse\u001b[39;00m)\n",
      "\u001b[1;31mNameError\u001b[0m: name 'StatWhiz' is not defined"
     ]
    }
   ],
   "source": [
    "stat_dude =  StatWhiz(pd.read_sql(con=engine, sql='''\n",
    "\n",
    "WITH crime_CTE AS (\n",
    "  SELECT community_board, CAST(YEAR AS int) AS year, SUM(crimes) AS crimes FROM (\n",
    "  SELECT \n",
    "  pd.community_board, \n",
    "  pd.precinct,\n",
    "  cd.YEAR,\n",
    "  crimes/COUNT(community_board) OVER(PARTITION BY cd.YEAR,pd.precinct) AS crimes\n",
    "  FROM precinct_data pd \n",
    "  LEFT JOIN (\n",
    "    select\n",
    "    cd.YEAR,\n",
    "    cd.pct,\n",
    "    SUM(count) AS crimes\n",
    "    FROM crime_data cd\n",
    "    --WHERE crime_category = 'major'\n",
    "    GROUP BY 1,2\n",
    "  ) cd ON pd.precinct  = cd.pct \n",
    ") sq GROUP BY 1,2\n",
    "),\n",
    "\n",
    "population_CTE AS (\n",
    "  SELECT \n",
    "  CAST(dd.YEAR AS int) AS year,\n",
    "  dd.community_board,\n",
    "  SUM(dd.value) AS population\n",
    "  FROM demo_data dd \n",
    "  WHERE metric = 'Population'\n",
    "  GROUP BY 1,2\n",
    "\n",
    ")\n",
    "SELECT DISTINCT YEAR, yearly_crime_rate, AVG(crime_rate) AS average_crime_rate FROM (\n",
    "  SELECT \n",
    "  c.community_board,\n",
    "  c.crimes,\n",
    "  c.YEAR,\n",
    "  p.population,\n",
    "  SUM(crimes) OVER(PARTITION BY c.year)/SUM(p.population) OVER(PARTITION BY c.year) * 100000 AS yearly_crime_rate,\n",
    "  c.crimes/p.population * 100000 AS crime_rate\n",
    "  FROM crime_CTE c\n",
    "  LEFT JOIN population_CTE p ON c.YEAR = p.YEAR AND c.community_board = p.community_board\n",
    "  WHERE c.YEAR >= 2007\n",
    ")\n",
    "\n",
    "GROUP BY 1,2\n",
    "ORDER BY 1 \n",
    "\n",
    "\n",
    "\n",
    "\n",
    "''')\n",
    ")\n",
    "\n",
    "stat_dude.line_graph(x=\"year\",y=[\"yearly_crime_rate\", \"average_crime_rate\"],title=\"Crime Rate Over Time\",show_labels=False)\n"
   ]
  },
  {
   "cell_type": "markdown",
   "id": "3d4fa82a",
   "metadata": {},
   "source": [
    "## Crime Rate By Community Board"
   ]
  },
  {
   "cell_type": "code",
   "execution_count": 5,
   "id": "f25b5017",
   "metadata": {},
   "outputs": [
    {
     "data": {
      "application/vnd.plotly.v1+json": {
       "config": {
        "plotlyServerURL": "https://plot.ly"
       },
       "data": [
        {
         "hovertemplate": "community_board=%{x}<br>average_crime_rate=%{y}<extra></extra>",
         "legendgroup": "",
         "marker": {
          "color": "#636efa",
          "pattern": {
           "shape": ""
          }
         },
         "name": "",
         "orientation": "v",
         "showlegend": false,
         "textposition": "auto",
         "type": "bar",
         "x": [
          "Manhattan Community Board 2",
          "Bronx Community Board 1",
          "Bronx Community Board 2",
          "Brooklyn Community Board 16",
          "Manhattan Community Board 11",
          "Manhattan Community Board 10",
          "Manhattan Community Board 1",
          "Bronx Community Board 6",
          "Bronx Community Board 3",
          "Brooklyn Community Board 3",
          "Brooklyn Community Board 8",
          "Brooklyn Community Board 5",
          "Bronx Community Board 4",
          "Brooklyn Community Board 2",
          "Bronx Community Board 5",
          "Bronx Community Board 7",
          "Queens Community Board 12",
          "Manhattan Community Board 9",
          "Bronx Community Board 9",
          "Brooklyn Community Board 9",
          "Brooklyn Community Board 4",
          "Manhattan Community Board 12",
          "Brooklyn Community Board 17",
          "Bronx Community Board 12",
          "Staten Island Community Board 1",
          "Brooklyn Community Board 13",
          "Queens Community Board 14",
          "Staten Island Community Board 2",
          "Bronx Community Board 11",
          "Brooklyn Community Board 1",
          "Manhattan Community Board 4",
          "Queens Community Board 1",
          "Manhattan Community Board 6",
          "Queens Community Board 10",
          "Queens Community Board 3",
          "Brooklyn Community Board 14",
          "Brooklyn Community Board 18",
          "Bronx Community Board 10",
          "Queens Community Board 4",
          "Brooklyn Community Board 7",
          "Bronx Community Board 8",
          "Brooklyn Community Board 6",
          "Queens Community Board 2",
          "Queens Community Board 9",
          "Manhattan Community Board 3",
          "Manhattan Community Board 7",
          "Queens Community Board 13",
          "Queens Community Board 5",
          "Brooklyn Community Board 10",
          "Manhattan Community Board 5",
          "Brooklyn Community Board 15",
          "Queens Community Board 7",
          "Queens Community Board 8",
          "Manhattan Community Board 8",
          "Queens Community Board 6",
          "Brooklyn Community Board 11",
          "Queens Community Board 11",
          "Brooklyn Community Board 12",
          "Staten Island Community Board 3"
         ],
         "xaxis": "x",
         "y": {
          "bdata": "Wa94pJ4gyUAlZNWxBXPFQAwaiQtFQ8RATvfYeAGjw0Ai/++G66jCQCRTFe9G1sBADl36s7h4wEA133o+N0LAQNCJLFBTEcBAUJ3cZtsqvkDkm9BJxB6+QCfC87P5db1A9CbdqhNPvEC4AzAsAES8QD+g1gWFkbtAm71YdhM8uUAkwQAI5zS4QHJlDeVJc7dAWkmHu7YAt0CBU76wU522QAS995cIdLZAPPgA7Ng0tUCQc7byE6O0QCUcUWW3UrRA+rY/CsBAtECECISZmiS0QBrG3UHvELRASNROHoxos0Aigeo3LYayQIFUOMWEELJA524iiuEOsUDFhsbPqZewQL49qpzNhbBATfWhKxhusEAO1goLMEWwQOCKSW/1LLBAPvGYvszWr0CXY88Qr5evQJ44MGRbvK1A4IIyYrUPrUAr+uTEbtKsQAkEo9TFwKxAsXIjRrhSrECLk6T7rwysQFsyizqibatAVPN8mRVtq0BI6YaY9pWqQHs9JqT37KlAdxF9WYz+qEANOMwxYPuoQAuCVMpVDahAxFGUhCYAp0Akp8IselmmQLmrcMIDLKVAUu1SJP7VpEBTellX5kqkQEDhMo10iaFAC67oT4W/nkDXeU2kQq2VQA==",
          "dtype": "f8"
         },
         "yaxis": "y"
        }
       ],
       "layout": {
        "barmode": "relative",
        "legend": {
         "tracegroupgap": 0
        },
        "template": {
         "data": {
          "bar": [
           {
            "error_x": {
             "color": "#2a3f5f"
            },
            "error_y": {
             "color": "#2a3f5f"
            },
            "marker": {
             "line": {
              "color": "#E5ECF6",
              "width": 0.5
             },
             "pattern": {
              "fillmode": "overlay",
              "size": 10,
              "solidity": 0.2
             }
            },
            "type": "bar"
           }
          ],
          "barpolar": [
           {
            "marker": {
             "line": {
              "color": "#E5ECF6",
              "width": 0.5
             },
             "pattern": {
              "fillmode": "overlay",
              "size": 10,
              "solidity": 0.2
             }
            },
            "type": "barpolar"
           }
          ],
          "carpet": [
           {
            "aaxis": {
             "endlinecolor": "#2a3f5f",
             "gridcolor": "white",
             "linecolor": "white",
             "minorgridcolor": "white",
             "startlinecolor": "#2a3f5f"
            },
            "baxis": {
             "endlinecolor": "#2a3f5f",
             "gridcolor": "white",
             "linecolor": "white",
             "minorgridcolor": "white",
             "startlinecolor": "#2a3f5f"
            },
            "type": "carpet"
           }
          ],
          "choropleth": [
           {
            "colorbar": {
             "outlinewidth": 0,
             "ticks": ""
            },
            "type": "choropleth"
           }
          ],
          "contour": [
           {
            "colorbar": {
             "outlinewidth": 0,
             "ticks": ""
            },
            "colorscale": [
             [
              0,
              "#0d0887"
             ],
             [
              0.1111111111111111,
              "#46039f"
             ],
             [
              0.2222222222222222,
              "#7201a8"
             ],
             [
              0.3333333333333333,
              "#9c179e"
             ],
             [
              0.4444444444444444,
              "#bd3786"
             ],
             [
              0.5555555555555556,
              "#d8576b"
             ],
             [
              0.6666666666666666,
              "#ed7953"
             ],
             [
              0.7777777777777778,
              "#fb9f3a"
             ],
             [
              0.8888888888888888,
              "#fdca26"
             ],
             [
              1,
              "#f0f921"
             ]
            ],
            "type": "contour"
           }
          ],
          "contourcarpet": [
           {
            "colorbar": {
             "outlinewidth": 0,
             "ticks": ""
            },
            "type": "contourcarpet"
           }
          ],
          "heatmap": [
           {
            "colorbar": {
             "outlinewidth": 0,
             "ticks": ""
            },
            "colorscale": [
             [
              0,
              "#0d0887"
             ],
             [
              0.1111111111111111,
              "#46039f"
             ],
             [
              0.2222222222222222,
              "#7201a8"
             ],
             [
              0.3333333333333333,
              "#9c179e"
             ],
             [
              0.4444444444444444,
              "#bd3786"
             ],
             [
              0.5555555555555556,
              "#d8576b"
             ],
             [
              0.6666666666666666,
              "#ed7953"
             ],
             [
              0.7777777777777778,
              "#fb9f3a"
             ],
             [
              0.8888888888888888,
              "#fdca26"
             ],
             [
              1,
              "#f0f921"
             ]
            ],
            "type": "heatmap"
           }
          ],
          "histogram": [
           {
            "marker": {
             "pattern": {
              "fillmode": "overlay",
              "size": 10,
              "solidity": 0.2
             }
            },
            "type": "histogram"
           }
          ],
          "histogram2d": [
           {
            "colorbar": {
             "outlinewidth": 0,
             "ticks": ""
            },
            "colorscale": [
             [
              0,
              "#0d0887"
             ],
             [
              0.1111111111111111,
              "#46039f"
             ],
             [
              0.2222222222222222,
              "#7201a8"
             ],
             [
              0.3333333333333333,
              "#9c179e"
             ],
             [
              0.4444444444444444,
              "#bd3786"
             ],
             [
              0.5555555555555556,
              "#d8576b"
             ],
             [
              0.6666666666666666,
              "#ed7953"
             ],
             [
              0.7777777777777778,
              "#fb9f3a"
             ],
             [
              0.8888888888888888,
              "#fdca26"
             ],
             [
              1,
              "#f0f921"
             ]
            ],
            "type": "histogram2d"
           }
          ],
          "histogram2dcontour": [
           {
            "colorbar": {
             "outlinewidth": 0,
             "ticks": ""
            },
            "colorscale": [
             [
              0,
              "#0d0887"
             ],
             [
              0.1111111111111111,
              "#46039f"
             ],
             [
              0.2222222222222222,
              "#7201a8"
             ],
             [
              0.3333333333333333,
              "#9c179e"
             ],
             [
              0.4444444444444444,
              "#bd3786"
             ],
             [
              0.5555555555555556,
              "#d8576b"
             ],
             [
              0.6666666666666666,
              "#ed7953"
             ],
             [
              0.7777777777777778,
              "#fb9f3a"
             ],
             [
              0.8888888888888888,
              "#fdca26"
             ],
             [
              1,
              "#f0f921"
             ]
            ],
            "type": "histogram2dcontour"
           }
          ],
          "mesh3d": [
           {
            "colorbar": {
             "outlinewidth": 0,
             "ticks": ""
            },
            "type": "mesh3d"
           }
          ],
          "parcoords": [
           {
            "line": {
             "colorbar": {
              "outlinewidth": 0,
              "ticks": ""
             }
            },
            "type": "parcoords"
           }
          ],
          "pie": [
           {
            "automargin": true,
            "type": "pie"
           }
          ],
          "scatter": [
           {
            "fillpattern": {
             "fillmode": "overlay",
             "size": 10,
             "solidity": 0.2
            },
            "type": "scatter"
           }
          ],
          "scatter3d": [
           {
            "line": {
             "colorbar": {
              "outlinewidth": 0,
              "ticks": ""
             }
            },
            "marker": {
             "colorbar": {
              "outlinewidth": 0,
              "ticks": ""
             }
            },
            "type": "scatter3d"
           }
          ],
          "scattercarpet": [
           {
            "marker": {
             "colorbar": {
              "outlinewidth": 0,
              "ticks": ""
             }
            },
            "type": "scattercarpet"
           }
          ],
          "scattergeo": [
           {
            "marker": {
             "colorbar": {
              "outlinewidth": 0,
              "ticks": ""
             }
            },
            "type": "scattergeo"
           }
          ],
          "scattergl": [
           {
            "marker": {
             "colorbar": {
              "outlinewidth": 0,
              "ticks": ""
             }
            },
            "type": "scattergl"
           }
          ],
          "scattermap": [
           {
            "marker": {
             "colorbar": {
              "outlinewidth": 0,
              "ticks": ""
             }
            },
            "type": "scattermap"
           }
          ],
          "scattermapbox": [
           {
            "marker": {
             "colorbar": {
              "outlinewidth": 0,
              "ticks": ""
             }
            },
            "type": "scattermapbox"
           }
          ],
          "scatterpolar": [
           {
            "marker": {
             "colorbar": {
              "outlinewidth": 0,
              "ticks": ""
             }
            },
            "type": "scatterpolar"
           }
          ],
          "scatterpolargl": [
           {
            "marker": {
             "colorbar": {
              "outlinewidth": 0,
              "ticks": ""
             }
            },
            "type": "scatterpolargl"
           }
          ],
          "scatterternary": [
           {
            "marker": {
             "colorbar": {
              "outlinewidth": 0,
              "ticks": ""
             }
            },
            "type": "scatterternary"
           }
          ],
          "surface": [
           {
            "colorbar": {
             "outlinewidth": 0,
             "ticks": ""
            },
            "colorscale": [
             [
              0,
              "#0d0887"
             ],
             [
              0.1111111111111111,
              "#46039f"
             ],
             [
              0.2222222222222222,
              "#7201a8"
             ],
             [
              0.3333333333333333,
              "#9c179e"
             ],
             [
              0.4444444444444444,
              "#bd3786"
             ],
             [
              0.5555555555555556,
              "#d8576b"
             ],
             [
              0.6666666666666666,
              "#ed7953"
             ],
             [
              0.7777777777777778,
              "#fb9f3a"
             ],
             [
              0.8888888888888888,
              "#fdca26"
             ],
             [
              1,
              "#f0f921"
             ]
            ],
            "type": "surface"
           }
          ],
          "table": [
           {
            "cells": {
             "fill": {
              "color": "#EBF0F8"
             },
             "line": {
              "color": "white"
             }
            },
            "header": {
             "fill": {
              "color": "#C8D4E3"
             },
             "line": {
              "color": "white"
             }
            },
            "type": "table"
           }
          ]
         },
         "layout": {
          "annotationdefaults": {
           "arrowcolor": "#2a3f5f",
           "arrowhead": 0,
           "arrowwidth": 1
          },
          "autotypenumbers": "strict",
          "coloraxis": {
           "colorbar": {
            "outlinewidth": 0,
            "ticks": ""
           }
          },
          "colorscale": {
           "diverging": [
            [
             0,
             "#8e0152"
            ],
            [
             0.1,
             "#c51b7d"
            ],
            [
             0.2,
             "#de77ae"
            ],
            [
             0.3,
             "#f1b6da"
            ],
            [
             0.4,
             "#fde0ef"
            ],
            [
             0.5,
             "#f7f7f7"
            ],
            [
             0.6,
             "#e6f5d0"
            ],
            [
             0.7,
             "#b8e186"
            ],
            [
             0.8,
             "#7fbc41"
            ],
            [
             0.9,
             "#4d9221"
            ],
            [
             1,
             "#276419"
            ]
           ],
           "sequential": [
            [
             0,
             "#0d0887"
            ],
            [
             0.1111111111111111,
             "#46039f"
            ],
            [
             0.2222222222222222,
             "#7201a8"
            ],
            [
             0.3333333333333333,
             "#9c179e"
            ],
            [
             0.4444444444444444,
             "#bd3786"
            ],
            [
             0.5555555555555556,
             "#d8576b"
            ],
            [
             0.6666666666666666,
             "#ed7953"
            ],
            [
             0.7777777777777778,
             "#fb9f3a"
            ],
            [
             0.8888888888888888,
             "#fdca26"
            ],
            [
             1,
             "#f0f921"
            ]
           ],
           "sequentialminus": [
            [
             0,
             "#0d0887"
            ],
            [
             0.1111111111111111,
             "#46039f"
            ],
            [
             0.2222222222222222,
             "#7201a8"
            ],
            [
             0.3333333333333333,
             "#9c179e"
            ],
            [
             0.4444444444444444,
             "#bd3786"
            ],
            [
             0.5555555555555556,
             "#d8576b"
            ],
            [
             0.6666666666666666,
             "#ed7953"
            ],
            [
             0.7777777777777778,
             "#fb9f3a"
            ],
            [
             0.8888888888888888,
             "#fdca26"
            ],
            [
             1,
             "#f0f921"
            ]
           ]
          },
          "colorway": [
           "#636efa",
           "#EF553B",
           "#00cc96",
           "#ab63fa",
           "#FFA15A",
           "#19d3f3",
           "#FF6692",
           "#B6E880",
           "#FF97FF",
           "#FECB52"
          ],
          "font": {
           "color": "#2a3f5f"
          },
          "geo": {
           "bgcolor": "white",
           "lakecolor": "white",
           "landcolor": "#E5ECF6",
           "showlakes": true,
           "showland": true,
           "subunitcolor": "white"
          },
          "hoverlabel": {
           "align": "left"
          },
          "hovermode": "closest",
          "mapbox": {
           "style": "light"
          },
          "paper_bgcolor": "white",
          "plot_bgcolor": "#E5ECF6",
          "polar": {
           "angularaxis": {
            "gridcolor": "white",
            "linecolor": "white",
            "ticks": ""
           },
           "bgcolor": "#E5ECF6",
           "radialaxis": {
            "gridcolor": "white",
            "linecolor": "white",
            "ticks": ""
           }
          },
          "scene": {
           "xaxis": {
            "backgroundcolor": "#E5ECF6",
            "gridcolor": "white",
            "gridwidth": 2,
            "linecolor": "white",
            "showbackground": true,
            "ticks": "",
            "zerolinecolor": "white"
           },
           "yaxis": {
            "backgroundcolor": "#E5ECF6",
            "gridcolor": "white",
            "gridwidth": 2,
            "linecolor": "white",
            "showbackground": true,
            "ticks": "",
            "zerolinecolor": "white"
           },
           "zaxis": {
            "backgroundcolor": "#E5ECF6",
            "gridcolor": "white",
            "gridwidth": 2,
            "linecolor": "white",
            "showbackground": true,
            "ticks": "",
            "zerolinecolor": "white"
           }
          },
          "shapedefaults": {
           "line": {
            "color": "#2a3f5f"
           }
          },
          "ternary": {
           "aaxis": {
            "gridcolor": "white",
            "linecolor": "white",
            "ticks": ""
           },
           "baxis": {
            "gridcolor": "white",
            "linecolor": "white",
            "ticks": ""
           },
           "bgcolor": "#E5ECF6",
           "caxis": {
            "gridcolor": "white",
            "linecolor": "white",
            "ticks": ""
           }
          },
          "title": {
           "x": 0.05
          },
          "xaxis": {
           "automargin": true,
           "gridcolor": "white",
           "linecolor": "white",
           "ticks": "",
           "title": {
            "standoff": 15
           },
           "zerolinecolor": "white",
           "zerolinewidth": 2
          },
          "yaxis": {
           "automargin": true,
           "gridcolor": "white",
           "linecolor": "white",
           "ticks": "",
           "title": {
            "standoff": 15
           },
           "zerolinecolor": "white",
           "zerolinewidth": 2
          }
         }
        },
        "title": {
         "text": "Bar Chart"
        },
        "xaxis": {
         "anchor": "y",
         "domain": [
          0,
          1
         ],
         "title": {
          "text": "community_board"
         }
        },
        "yaxis": {
         "anchor": "x",
         "domain": [
          0,
          1
         ],
         "title": {
          "text": "average_crime_rate"
         }
        }
       }
      }
     },
     "metadata": {},
     "output_type": "display_data"
    }
   ],
   "source": [
    "stat_dude =  StatWhiz(pd.read_sql(con=engine, sql='''\n",
    "\n",
    "WITH crime_CTE AS (\n",
    "  SELECT community_board, CAST(YEAR AS int) AS year, SUM(crimes) AS crimes FROM (\n",
    "  SELECT \n",
    "  pd.community_board, \n",
    "  pd.precinct,\n",
    "  cd.YEAR,\n",
    "  crimes/COUNT(community_board) OVER(PARTITION BY cd.YEAR,pd.precinct) AS crimes\n",
    "  FROM precinct_data pd \n",
    "  LEFT JOIN (\n",
    "    select\n",
    "    cd.YEAR,\n",
    "    cd.pct,\n",
    "    SUM(count) AS crimes\n",
    "    FROM crime_data cd\n",
    "    --WHERE crime_category = 'major'\n",
    "    GROUP BY 1,2\n",
    "  ) cd ON pd.precinct  = cd.pct \n",
    ") sq GROUP BY 1,2\n",
    "),\n",
    "\n",
    "population_CTE AS (\n",
    "  SELECT \n",
    "  CAST(dd.YEAR AS int) AS year,\n",
    "  dd.community_board,\n",
    "  SUM(dd.value) AS population\n",
    "  FROM demo_data dd \n",
    "  WHERE metric = 'Population'\n",
    "  GROUP BY 1,2\n",
    "\n",
    ")\n",
    "SELECT community_board, AVG(crime_rate) AS average_crime_rate FROM (\n",
    "  SELECT \n",
    "  c.community_board,\n",
    "  c.crimes,\n",
    "  c.YEAR,\n",
    "  c.crimes/p.population * 100000 AS crime_rate\n",
    "  FROM crime_CTE c\n",
    "  LEFT JOIN population_CTE p ON c.YEAR = p.YEAR AND c.community_board = p.community_board\n",
    "  WHERE c.YEAR >= 2007\n",
    "\n",
    ") GROUP BY 1 ORDER BY 2 DESC\n",
    "                                  \n",
    "\n",
    "\n",
    "''')\n",
    ")\n",
    "\n",
    "\n",
    "stat_dude.bar_chart(y=\"average_crime_rate\",x=\"community_board\")\n"
   ]
  },
  {
   "cell_type": "code",
   "execution_count": 6,
   "id": "26d42d3b",
   "metadata": {},
   "outputs": [
    {
     "data": {
      "application/vnd.plotly.v1+json": {
       "config": {
        "plotlyServerURL": "https://plot.ly"
       },
       "data": [
        {
         "hovertemplate": "borough=%{x}<br>average_crime_rate=%{y}<extra></extra>",
         "legendgroup": "",
         "marker": {
          "color": "#636efa",
          "pattern": {
           "shape": ""
          }
         },
         "name": "",
         "orientation": "v",
         "showlegend": false,
         "textposition": "auto",
         "type": "bar",
         "x": [
          "Bronx",
          "Manhattan",
          "Brooklyn",
          "Staten Island",
          "Queens"
         ],
         "xaxis": "x",
         "y": {
          "bdata": "Dx6PFUDFukAJMWmf6ZO3QB3LH/PVQLRA0ZsW4b0NrkD8j7kihj+tQA==",
          "dtype": "f8"
         },
         "yaxis": "y"
        }
       ],
       "layout": {
        "barmode": "relative",
        "legend": {
         "tracegroupgap": 0
        },
        "template": {
         "data": {
          "bar": [
           {
            "error_x": {
             "color": "#2a3f5f"
            },
            "error_y": {
             "color": "#2a3f5f"
            },
            "marker": {
             "line": {
              "color": "#E5ECF6",
              "width": 0.5
             },
             "pattern": {
              "fillmode": "overlay",
              "size": 10,
              "solidity": 0.2
             }
            },
            "type": "bar"
           }
          ],
          "barpolar": [
           {
            "marker": {
             "line": {
              "color": "#E5ECF6",
              "width": 0.5
             },
             "pattern": {
              "fillmode": "overlay",
              "size": 10,
              "solidity": 0.2
             }
            },
            "type": "barpolar"
           }
          ],
          "carpet": [
           {
            "aaxis": {
             "endlinecolor": "#2a3f5f",
             "gridcolor": "white",
             "linecolor": "white",
             "minorgridcolor": "white",
             "startlinecolor": "#2a3f5f"
            },
            "baxis": {
             "endlinecolor": "#2a3f5f",
             "gridcolor": "white",
             "linecolor": "white",
             "minorgridcolor": "white",
             "startlinecolor": "#2a3f5f"
            },
            "type": "carpet"
           }
          ],
          "choropleth": [
           {
            "colorbar": {
             "outlinewidth": 0,
             "ticks": ""
            },
            "type": "choropleth"
           }
          ],
          "contour": [
           {
            "colorbar": {
             "outlinewidth": 0,
             "ticks": ""
            },
            "colorscale": [
             [
              0,
              "#0d0887"
             ],
             [
              0.1111111111111111,
              "#46039f"
             ],
             [
              0.2222222222222222,
              "#7201a8"
             ],
             [
              0.3333333333333333,
              "#9c179e"
             ],
             [
              0.4444444444444444,
              "#bd3786"
             ],
             [
              0.5555555555555556,
              "#d8576b"
             ],
             [
              0.6666666666666666,
              "#ed7953"
             ],
             [
              0.7777777777777778,
              "#fb9f3a"
             ],
             [
              0.8888888888888888,
              "#fdca26"
             ],
             [
              1,
              "#f0f921"
             ]
            ],
            "type": "contour"
           }
          ],
          "contourcarpet": [
           {
            "colorbar": {
             "outlinewidth": 0,
             "ticks": ""
            },
            "type": "contourcarpet"
           }
          ],
          "heatmap": [
           {
            "colorbar": {
             "outlinewidth": 0,
             "ticks": ""
            },
            "colorscale": [
             [
              0,
              "#0d0887"
             ],
             [
              0.1111111111111111,
              "#46039f"
             ],
             [
              0.2222222222222222,
              "#7201a8"
             ],
             [
              0.3333333333333333,
              "#9c179e"
             ],
             [
              0.4444444444444444,
              "#bd3786"
             ],
             [
              0.5555555555555556,
              "#d8576b"
             ],
             [
              0.6666666666666666,
              "#ed7953"
             ],
             [
              0.7777777777777778,
              "#fb9f3a"
             ],
             [
              0.8888888888888888,
              "#fdca26"
             ],
             [
              1,
              "#f0f921"
             ]
            ],
            "type": "heatmap"
           }
          ],
          "histogram": [
           {
            "marker": {
             "pattern": {
              "fillmode": "overlay",
              "size": 10,
              "solidity": 0.2
             }
            },
            "type": "histogram"
           }
          ],
          "histogram2d": [
           {
            "colorbar": {
             "outlinewidth": 0,
             "ticks": ""
            },
            "colorscale": [
             [
              0,
              "#0d0887"
             ],
             [
              0.1111111111111111,
              "#46039f"
             ],
             [
              0.2222222222222222,
              "#7201a8"
             ],
             [
              0.3333333333333333,
              "#9c179e"
             ],
             [
              0.4444444444444444,
              "#bd3786"
             ],
             [
              0.5555555555555556,
              "#d8576b"
             ],
             [
              0.6666666666666666,
              "#ed7953"
             ],
             [
              0.7777777777777778,
              "#fb9f3a"
             ],
             [
              0.8888888888888888,
              "#fdca26"
             ],
             [
              1,
              "#f0f921"
             ]
            ],
            "type": "histogram2d"
           }
          ],
          "histogram2dcontour": [
           {
            "colorbar": {
             "outlinewidth": 0,
             "ticks": ""
            },
            "colorscale": [
             [
              0,
              "#0d0887"
             ],
             [
              0.1111111111111111,
              "#46039f"
             ],
             [
              0.2222222222222222,
              "#7201a8"
             ],
             [
              0.3333333333333333,
              "#9c179e"
             ],
             [
              0.4444444444444444,
              "#bd3786"
             ],
             [
              0.5555555555555556,
              "#d8576b"
             ],
             [
              0.6666666666666666,
              "#ed7953"
             ],
             [
              0.7777777777777778,
              "#fb9f3a"
             ],
             [
              0.8888888888888888,
              "#fdca26"
             ],
             [
              1,
              "#f0f921"
             ]
            ],
            "type": "histogram2dcontour"
           }
          ],
          "mesh3d": [
           {
            "colorbar": {
             "outlinewidth": 0,
             "ticks": ""
            },
            "type": "mesh3d"
           }
          ],
          "parcoords": [
           {
            "line": {
             "colorbar": {
              "outlinewidth": 0,
              "ticks": ""
             }
            },
            "type": "parcoords"
           }
          ],
          "pie": [
           {
            "automargin": true,
            "type": "pie"
           }
          ],
          "scatter": [
           {
            "fillpattern": {
             "fillmode": "overlay",
             "size": 10,
             "solidity": 0.2
            },
            "type": "scatter"
           }
          ],
          "scatter3d": [
           {
            "line": {
             "colorbar": {
              "outlinewidth": 0,
              "ticks": ""
             }
            },
            "marker": {
             "colorbar": {
              "outlinewidth": 0,
              "ticks": ""
             }
            },
            "type": "scatter3d"
           }
          ],
          "scattercarpet": [
           {
            "marker": {
             "colorbar": {
              "outlinewidth": 0,
              "ticks": ""
             }
            },
            "type": "scattercarpet"
           }
          ],
          "scattergeo": [
           {
            "marker": {
             "colorbar": {
              "outlinewidth": 0,
              "ticks": ""
             }
            },
            "type": "scattergeo"
           }
          ],
          "scattergl": [
           {
            "marker": {
             "colorbar": {
              "outlinewidth": 0,
              "ticks": ""
             }
            },
            "type": "scattergl"
           }
          ],
          "scattermap": [
           {
            "marker": {
             "colorbar": {
              "outlinewidth": 0,
              "ticks": ""
             }
            },
            "type": "scattermap"
           }
          ],
          "scattermapbox": [
           {
            "marker": {
             "colorbar": {
              "outlinewidth": 0,
              "ticks": ""
             }
            },
            "type": "scattermapbox"
           }
          ],
          "scatterpolar": [
           {
            "marker": {
             "colorbar": {
              "outlinewidth": 0,
              "ticks": ""
             }
            },
            "type": "scatterpolar"
           }
          ],
          "scatterpolargl": [
           {
            "marker": {
             "colorbar": {
              "outlinewidth": 0,
              "ticks": ""
             }
            },
            "type": "scatterpolargl"
           }
          ],
          "scatterternary": [
           {
            "marker": {
             "colorbar": {
              "outlinewidth": 0,
              "ticks": ""
             }
            },
            "type": "scatterternary"
           }
          ],
          "surface": [
           {
            "colorbar": {
             "outlinewidth": 0,
             "ticks": ""
            },
            "colorscale": [
             [
              0,
              "#0d0887"
             ],
             [
              0.1111111111111111,
              "#46039f"
             ],
             [
              0.2222222222222222,
              "#7201a8"
             ],
             [
              0.3333333333333333,
              "#9c179e"
             ],
             [
              0.4444444444444444,
              "#bd3786"
             ],
             [
              0.5555555555555556,
              "#d8576b"
             ],
             [
              0.6666666666666666,
              "#ed7953"
             ],
             [
              0.7777777777777778,
              "#fb9f3a"
             ],
             [
              0.8888888888888888,
              "#fdca26"
             ],
             [
              1,
              "#f0f921"
             ]
            ],
            "type": "surface"
           }
          ],
          "table": [
           {
            "cells": {
             "fill": {
              "color": "#EBF0F8"
             },
             "line": {
              "color": "white"
             }
            },
            "header": {
             "fill": {
              "color": "#C8D4E3"
             },
             "line": {
              "color": "white"
             }
            },
            "type": "table"
           }
          ]
         },
         "layout": {
          "annotationdefaults": {
           "arrowcolor": "#2a3f5f",
           "arrowhead": 0,
           "arrowwidth": 1
          },
          "autotypenumbers": "strict",
          "coloraxis": {
           "colorbar": {
            "outlinewidth": 0,
            "ticks": ""
           }
          },
          "colorscale": {
           "diverging": [
            [
             0,
             "#8e0152"
            ],
            [
             0.1,
             "#c51b7d"
            ],
            [
             0.2,
             "#de77ae"
            ],
            [
             0.3,
             "#f1b6da"
            ],
            [
             0.4,
             "#fde0ef"
            ],
            [
             0.5,
             "#f7f7f7"
            ],
            [
             0.6,
             "#e6f5d0"
            ],
            [
             0.7,
             "#b8e186"
            ],
            [
             0.8,
             "#7fbc41"
            ],
            [
             0.9,
             "#4d9221"
            ],
            [
             1,
             "#276419"
            ]
           ],
           "sequential": [
            [
             0,
             "#0d0887"
            ],
            [
             0.1111111111111111,
             "#46039f"
            ],
            [
             0.2222222222222222,
             "#7201a8"
            ],
            [
             0.3333333333333333,
             "#9c179e"
            ],
            [
             0.4444444444444444,
             "#bd3786"
            ],
            [
             0.5555555555555556,
             "#d8576b"
            ],
            [
             0.6666666666666666,
             "#ed7953"
            ],
            [
             0.7777777777777778,
             "#fb9f3a"
            ],
            [
             0.8888888888888888,
             "#fdca26"
            ],
            [
             1,
             "#f0f921"
            ]
           ],
           "sequentialminus": [
            [
             0,
             "#0d0887"
            ],
            [
             0.1111111111111111,
             "#46039f"
            ],
            [
             0.2222222222222222,
             "#7201a8"
            ],
            [
             0.3333333333333333,
             "#9c179e"
            ],
            [
             0.4444444444444444,
             "#bd3786"
            ],
            [
             0.5555555555555556,
             "#d8576b"
            ],
            [
             0.6666666666666666,
             "#ed7953"
            ],
            [
             0.7777777777777778,
             "#fb9f3a"
            ],
            [
             0.8888888888888888,
             "#fdca26"
            ],
            [
             1,
             "#f0f921"
            ]
           ]
          },
          "colorway": [
           "#636efa",
           "#EF553B",
           "#00cc96",
           "#ab63fa",
           "#FFA15A",
           "#19d3f3",
           "#FF6692",
           "#B6E880",
           "#FF97FF",
           "#FECB52"
          ],
          "font": {
           "color": "#2a3f5f"
          },
          "geo": {
           "bgcolor": "white",
           "lakecolor": "white",
           "landcolor": "#E5ECF6",
           "showlakes": true,
           "showland": true,
           "subunitcolor": "white"
          },
          "hoverlabel": {
           "align": "left"
          },
          "hovermode": "closest",
          "mapbox": {
           "style": "light"
          },
          "paper_bgcolor": "white",
          "plot_bgcolor": "#E5ECF6",
          "polar": {
           "angularaxis": {
            "gridcolor": "white",
            "linecolor": "white",
            "ticks": ""
           },
           "bgcolor": "#E5ECF6",
           "radialaxis": {
            "gridcolor": "white",
            "linecolor": "white",
            "ticks": ""
           }
          },
          "scene": {
           "xaxis": {
            "backgroundcolor": "#E5ECF6",
            "gridcolor": "white",
            "gridwidth": 2,
            "linecolor": "white",
            "showbackground": true,
            "ticks": "",
            "zerolinecolor": "white"
           },
           "yaxis": {
            "backgroundcolor": "#E5ECF6",
            "gridcolor": "white",
            "gridwidth": 2,
            "linecolor": "white",
            "showbackground": true,
            "ticks": "",
            "zerolinecolor": "white"
           },
           "zaxis": {
            "backgroundcolor": "#E5ECF6",
            "gridcolor": "white",
            "gridwidth": 2,
            "linecolor": "white",
            "showbackground": true,
            "ticks": "",
            "zerolinecolor": "white"
           }
          },
          "shapedefaults": {
           "line": {
            "color": "#2a3f5f"
           }
          },
          "ternary": {
           "aaxis": {
            "gridcolor": "white",
            "linecolor": "white",
            "ticks": ""
           },
           "baxis": {
            "gridcolor": "white",
            "linecolor": "white",
            "ticks": ""
           },
           "bgcolor": "#E5ECF6",
           "caxis": {
            "gridcolor": "white",
            "linecolor": "white",
            "ticks": ""
           }
          },
          "title": {
           "x": 0.05
          },
          "xaxis": {
           "automargin": true,
           "gridcolor": "white",
           "linecolor": "white",
           "ticks": "",
           "title": {
            "standoff": 15
           },
           "zerolinecolor": "white",
           "zerolinewidth": 2
          },
          "yaxis": {
           "automargin": true,
           "gridcolor": "white",
           "linecolor": "white",
           "ticks": "",
           "title": {
            "standoff": 15
           },
           "zerolinecolor": "white",
           "zerolinewidth": 2
          }
         }
        },
        "title": {
         "text": "Bar Chart"
        },
        "xaxis": {
         "anchor": "y",
         "domain": [
          0,
          1
         ],
         "title": {
          "text": "borough"
         }
        },
        "yaxis": {
         "anchor": "x",
         "domain": [
          0,
          1
         ],
         "title": {
          "text": "average_crime_rate"
         }
        }
       }
      }
     },
     "metadata": {},
     "output_type": "display_data"
    }
   ],
   "source": [
    "stat_dude =  StatWhiz(pd.read_sql(con=engine, sql='''\n",
    "\n",
    "WITH crime_CTE AS (\n",
    "  SELECT community_board, CAST(YEAR AS int) AS year, SUM(crimes) AS crimes FROM (\n",
    "  SELECT \n",
    "  pd.community_board, \n",
    "  pd.precinct,\n",
    "  cd.YEAR,\n",
    "  crimes/COUNT(community_board) OVER(PARTITION BY cd.YEAR,pd.precinct) AS crimes\n",
    "  FROM precinct_data pd \n",
    "  LEFT JOIN (\n",
    "    select\n",
    "    cd.YEAR,\n",
    "    cd.pct,\n",
    "    SUM(count) AS crimes\n",
    "    FROM crime_data cd\n",
    "    --WHERE crime_category = 'major'\n",
    "    GROUP BY 1,2\n",
    "  ) cd ON pd.precinct  = cd.pct \n",
    ") sq GROUP BY 1,2\n",
    "),\n",
    "\n",
    "population_CTE AS (\n",
    "  SELECT \n",
    "  CAST(dd.YEAR AS int) AS year,\n",
    "  dd.community_board,\n",
    "  SUM(dd.value) AS population\n",
    "  FROM demo_data dd \n",
    "  WHERE metric = 'Population'\n",
    "  GROUP BY 1,2\n",
    "\n",
    ")\n",
    "SELECT borough, AVG(crime_rate) AS average_crime_rate FROM (\n",
    "  SELECT \n",
    "  c.community_board,\n",
    "  cd.borough,\n",
    "  c.crimes,\n",
    "  c.YEAR,\n",
    "  c.crimes/p.population * 100000 AS crime_rate\n",
    "  FROM crime_CTE c\n",
    "  LEFT JOIN population_CTE p ON c.YEAR = p.YEAR AND c.community_board = p.community_board\n",
    "  LEFT JOIN community_board_data cd ON c.community_board = cd.community_board\n",
    "  WHERE c.YEAR >= 2007\n",
    "\n",
    ") GROUP BY 1 ORDER BY 2 DESC\n",
    "                                  \n",
    "\n",
    "\n",
    "''')\n",
    ")\n",
    "\n",
    "\n",
    "stat_dude.bar_chart(y=\"average_crime_rate\",x=\"borough\")\n"
   ]
  },
  {
   "cell_type": "markdown",
   "id": "0dbdd1ae",
   "metadata": {},
   "source": [
    "## Crime Rate and Economic Effects"
   ]
  },
  {
   "cell_type": "code",
   "execution_count": 3,
   "id": "e6bc4bf4",
   "metadata": {},
   "outputs": [
    {
     "data": {
      "application/vnd.plotly.v1+json": {
       "config": {
        "plotlyServerURL": "https://plot.ly"
       },
       "data": [
        {
         "hovertemplate": "rent_proportion=%{x}<br>crime_rate=%{y}<extra></extra>",
         "legendgroup": "",
         "marker": {
          "color": "#636efa",
          "symbol": "circle"
         },
         "mode": "markers",
         "name": "",
         "showlegend": false,
         "type": "scattergl",
         "x": {
          "bdata": "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",
          "dtype": "f8"
         },
         "xaxis": "x",
         "y": {
          "bdata": "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",
          "dtype": "f8"
         },
         "yaxis": "y"
        }
       ],
       "layout": {
        "legend": {
         "tracegroupgap": 0
        },
        "template": {
         "data": {
          "bar": [
           {
            "error_x": {
             "color": "#2a3f5f"
            },
            "error_y": {
             "color": "#2a3f5f"
            },
            "marker": {
             "line": {
              "color": "#E5ECF6",
              "width": 0.5
             },
             "pattern": {
              "fillmode": "overlay",
              "size": 10,
              "solidity": 0.2
             }
            },
            "type": "bar"
           }
          ],
          "barpolar": [
           {
            "marker": {
             "line": {
              "color": "#E5ECF6",
              "width": 0.5
             },
             "pattern": {
              "fillmode": "overlay",
              "size": 10,
              "solidity": 0.2
             }
            },
            "type": "barpolar"
           }
          ],
          "carpet": [
           {
            "aaxis": {
             "endlinecolor": "#2a3f5f",
             "gridcolor": "white",
             "linecolor": "white",
             "minorgridcolor": "white",
             "startlinecolor": "#2a3f5f"
            },
            "baxis": {
             "endlinecolor": "#2a3f5f",
             "gridcolor": "white",
             "linecolor": "white",
             "minorgridcolor": "white",
             "startlinecolor": "#2a3f5f"
            },
            "type": "carpet"
           }
          ],
          "choropleth": [
           {
            "colorbar": {
             "outlinewidth": 0,
             "ticks": ""
            },
            "type": "choropleth"
           }
          ],
          "contour": [
           {
            "colorbar": {
             "outlinewidth": 0,
             "ticks": ""
            },
            "colorscale": [
             [
              0,
              "#0d0887"
             ],
             [
              0.1111111111111111,
              "#46039f"
             ],
             [
              0.2222222222222222,
              "#7201a8"
             ],
             [
              0.3333333333333333,
              "#9c179e"
             ],
             [
              0.4444444444444444,
              "#bd3786"
             ],
             [
              0.5555555555555556,
              "#d8576b"
             ],
             [
              0.6666666666666666,
              "#ed7953"
             ],
             [
              0.7777777777777778,
              "#fb9f3a"
             ],
             [
              0.8888888888888888,
              "#fdca26"
             ],
             [
              1,
              "#f0f921"
             ]
            ],
            "type": "contour"
           }
          ],
          "contourcarpet": [
           {
            "colorbar": {
             "outlinewidth": 0,
             "ticks": ""
            },
            "type": "contourcarpet"
           }
          ],
          "heatmap": [
           {
            "colorbar": {
             "outlinewidth": 0,
             "ticks": ""
            },
            "colorscale": [
             [
              0,
              "#0d0887"
             ],
             [
              0.1111111111111111,
              "#46039f"
             ],
             [
              0.2222222222222222,
              "#7201a8"
             ],
             [
              0.3333333333333333,
              "#9c179e"
             ],
             [
              0.4444444444444444,
              "#bd3786"
             ],
             [
              0.5555555555555556,
              "#d8576b"
             ],
             [
              0.6666666666666666,
              "#ed7953"
             ],
             [
              0.7777777777777778,
              "#fb9f3a"
             ],
             [
              0.8888888888888888,
              "#fdca26"
             ],
             [
              1,
              "#f0f921"
             ]
            ],
            "type": "heatmap"
           }
          ],
          "histogram": [
           {
            "marker": {
             "pattern": {
              "fillmode": "overlay",
              "size": 10,
              "solidity": 0.2
             }
            },
            "type": "histogram"
           }
          ],
          "histogram2d": [
           {
            "colorbar": {
             "outlinewidth": 0,
             "ticks": ""
            },
            "colorscale": [
             [
              0,
              "#0d0887"
             ],
             [
              0.1111111111111111,
              "#46039f"
             ],
             [
              0.2222222222222222,
              "#7201a8"
             ],
             [
              0.3333333333333333,
              "#9c179e"
             ],
             [
              0.4444444444444444,
              "#bd3786"
             ],
             [
              0.5555555555555556,
              "#d8576b"
             ],
             [
              0.6666666666666666,
              "#ed7953"
             ],
             [
              0.7777777777777778,
              "#fb9f3a"
             ],
             [
              0.8888888888888888,
              "#fdca26"
             ],
             [
              1,
              "#f0f921"
             ]
            ],
            "type": "histogram2d"
           }
          ],
          "histogram2dcontour": [
           {
            "colorbar": {
             "outlinewidth": 0,
             "ticks": ""
            },
            "colorscale": [
             [
              0,
              "#0d0887"
             ],
             [
              0.1111111111111111,
              "#46039f"
             ],
             [
              0.2222222222222222,
              "#7201a8"
             ],
             [
              0.3333333333333333,
              "#9c179e"
             ],
             [
              0.4444444444444444,
              "#bd3786"
             ],
             [
              0.5555555555555556,
              "#d8576b"
             ],
             [
              0.6666666666666666,
              "#ed7953"
             ],
             [
              0.7777777777777778,
              "#fb9f3a"
             ],
             [
              0.8888888888888888,
              "#fdca26"
             ],
             [
              1,
              "#f0f921"
             ]
            ],
            "type": "histogram2dcontour"
           }
          ],
          "mesh3d": [
           {
            "colorbar": {
             "outlinewidth": 0,
             "ticks": ""
            },
            "type": "mesh3d"
           }
          ],
          "parcoords": [
           {
            "line": {
             "colorbar": {
              "outlinewidth": 0,
              "ticks": ""
             }
            },
            "type": "parcoords"
           }
          ],
          "pie": [
           {
            "automargin": true,
            "type": "pie"
           }
          ],
          "scatter": [
           {
            "fillpattern": {
             "fillmode": "overlay",
             "size": 10,
             "solidity": 0.2
            },
            "type": "scatter"
           }
          ],
          "scatter3d": [
           {
            "line": {
             "colorbar": {
              "outlinewidth": 0,
              "ticks": ""
             }
            },
            "marker": {
             "colorbar": {
              "outlinewidth": 0,
              "ticks": ""
             }
            },
            "type": "scatter3d"
           }
          ],
          "scattercarpet": [
           {
            "marker": {
             "colorbar": {
              "outlinewidth": 0,
              "ticks": ""
             }
            },
            "type": "scattercarpet"
           }
          ],
          "scattergeo": [
           {
            "marker": {
             "colorbar": {
              "outlinewidth": 0,
              "ticks": ""
             }
            },
            "type": "scattergeo"
           }
          ],
          "scattergl": [
           {
            "marker": {
             "colorbar": {
              "outlinewidth": 0,
              "ticks": ""
             }
            },
            "type": "scattergl"
           }
          ],
          "scattermap": [
           {
            "marker": {
             "colorbar": {
              "outlinewidth": 0,
              "ticks": ""
             }
            },
            "type": "scattermap"
           }
          ],
          "scattermapbox": [
           {
            "marker": {
             "colorbar": {
              "outlinewidth": 0,
              "ticks": ""
             }
            },
            "type": "scattermapbox"
           }
          ],
          "scatterpolar": [
           {
            "marker": {
             "colorbar": {
              "outlinewidth": 0,
              "ticks": ""
             }
            },
            "type": "scatterpolar"
           }
          ],
          "scatterpolargl": [
           {
            "marker": {
             "colorbar": {
              "outlinewidth": 0,
              "ticks": ""
             }
            },
            "type": "scatterpolargl"
           }
          ],
          "scatterternary": [
           {
            "marker": {
             "colorbar": {
              "outlinewidth": 0,
              "ticks": ""
             }
            },
            "type": "scatterternary"
           }
          ],
          "surface": [
           {
            "colorbar": {
             "outlinewidth": 0,
             "ticks": ""
            },
            "colorscale": [
             [
              0,
              "#0d0887"
             ],
             [
              0.1111111111111111,
              "#46039f"
             ],
             [
              0.2222222222222222,
              "#7201a8"
             ],
             [
              0.3333333333333333,
              "#9c179e"
             ],
             [
              0.4444444444444444,
              "#bd3786"
             ],
             [
              0.5555555555555556,
              "#d8576b"
             ],
             [
              0.6666666666666666,
              "#ed7953"
             ],
             [
              0.7777777777777778,
              "#fb9f3a"
             ],
             [
              0.8888888888888888,
              "#fdca26"
             ],
             [
              1,
              "#f0f921"
             ]
            ],
            "type": "surface"
           }
          ],
          "table": [
           {
            "cells": {
             "fill": {
              "color": "#EBF0F8"
             },
             "line": {
              "color": "white"
             }
            },
            "header": {
             "fill": {
              "color": "#C8D4E3"
             },
             "line": {
              "color": "white"
             }
            },
            "type": "table"
           }
          ]
         },
         "layout": {
          "annotationdefaults": {
           "arrowcolor": "#2a3f5f",
           "arrowhead": 0,
           "arrowwidth": 1
          },
          "autotypenumbers": "strict",
          "coloraxis": {
           "colorbar": {
            "outlinewidth": 0,
            "ticks": ""
           }
          },
          "colorscale": {
           "diverging": [
            [
             0,
             "#8e0152"
            ],
            [
             0.1,
             "#c51b7d"
            ],
            [
             0.2,
             "#de77ae"
            ],
            [
             0.3,
             "#f1b6da"
            ],
            [
             0.4,
             "#fde0ef"
            ],
            [
             0.5,
             "#f7f7f7"
            ],
            [
             0.6,
             "#e6f5d0"
            ],
            [
             0.7,
             "#b8e186"
            ],
            [
             0.8,
             "#7fbc41"
            ],
            [
             0.9,
             "#4d9221"
            ],
            [
             1,
             "#276419"
            ]
           ],
           "sequential": [
            [
             0,
             "#0d0887"
            ],
            [
             0.1111111111111111,
             "#46039f"
            ],
            [
             0.2222222222222222,
             "#7201a8"
            ],
            [
             0.3333333333333333,
             "#9c179e"
            ],
            [
             0.4444444444444444,
             "#bd3786"
            ],
            [
             0.5555555555555556,
             "#d8576b"
            ],
            [
             0.6666666666666666,
             "#ed7953"
            ],
            [
             0.7777777777777778,
             "#fb9f3a"
            ],
            [
             0.8888888888888888,
             "#fdca26"
            ],
            [
             1,
             "#f0f921"
            ]
           ],
           "sequentialminus": [
            [
             0,
             "#0d0887"
            ],
            [
             0.1111111111111111,
             "#46039f"
            ],
            [
             0.2222222222222222,
             "#7201a8"
            ],
            [
             0.3333333333333333,
             "#9c179e"
            ],
            [
             0.4444444444444444,
             "#bd3786"
            ],
            [
             0.5555555555555556,
             "#d8576b"
            ],
            [
             0.6666666666666666,
             "#ed7953"
            ],
            [
             0.7777777777777778,
             "#fb9f3a"
            ],
            [
             0.8888888888888888,
             "#fdca26"
            ],
            [
             1,
             "#f0f921"
            ]
           ]
          },
          "colorway": [
           "#636efa",
           "#EF553B",
           "#00cc96",
           "#ab63fa",
           "#FFA15A",
           "#19d3f3",
           "#FF6692",
           "#B6E880",
           "#FF97FF",
           "#FECB52"
          ],
          "font": {
           "color": "#2a3f5f"
          },
          "geo": {
           "bgcolor": "white",
           "lakecolor": "white",
           "landcolor": "#E5ECF6",
           "showlakes": true,
           "showland": true,
           "subunitcolor": "white"
          },
          "hoverlabel": {
           "align": "left"
          },
          "hovermode": "closest",
          "mapbox": {
           "style": "light"
          },
          "paper_bgcolor": "white",
          "plot_bgcolor": "#E5ECF6",
          "polar": {
           "angularaxis": {
            "gridcolor": "white",
            "linecolor": "white",
            "ticks": ""
           },
           "bgcolor": "#E5ECF6",
           "radialaxis": {
            "gridcolor": "white",
            "linecolor": "white",
            "ticks": ""
           }
          },
          "scene": {
           "xaxis": {
            "backgroundcolor": "#E5ECF6",
            "gridcolor": "white",
            "gridwidth": 2,
            "linecolor": "white",
            "showbackground": true,
            "ticks": "",
            "zerolinecolor": "white"
           },
           "yaxis": {
            "backgroundcolor": "#E5ECF6",
            "gridcolor": "white",
            "gridwidth": 2,
            "linecolor": "white",
            "showbackground": true,
            "ticks": "",
            "zerolinecolor": "white"
           },
           "zaxis": {
            "backgroundcolor": "#E5ECF6",
            "gridcolor": "white",
            "gridwidth": 2,
            "linecolor": "white",
            "showbackground": true,
            "ticks": "",
            "zerolinecolor": "white"
           }
          },
          "shapedefaults": {
           "line": {
            "color": "#2a3f5f"
           }
          },
          "ternary": {
           "aaxis": {
            "gridcolor": "white",
            "linecolor": "white",
            "ticks": ""
           },
           "baxis": {
            "gridcolor": "white",
            "linecolor": "white",
            "ticks": ""
           },
           "bgcolor": "#E5ECF6",
           "caxis": {
            "gridcolor": "white",
            "linecolor": "white",
            "ticks": ""
           }
          },
          "title": {
           "x": 0.05
          },
          "xaxis": {
           "automargin": true,
           "gridcolor": "white",
           "linecolor": "white",
           "ticks": "",
           "title": {
            "standoff": 15
           },
           "zerolinecolor": "white",
           "zerolinewidth": 2
          },
          "yaxis": {
           "automargin": true,
           "gridcolor": "white",
           "linecolor": "white",
           "ticks": "",
           "title": {
            "standoff": 15
           },
           "zerolinecolor": "white",
           "zerolinewidth": 2
          }
         }
        },
        "title": {
         "text": "Scatterplot (corr=0.373)"
        },
        "xaxis": {
         "anchor": "y",
         "domain": [
          0,
          1
         ],
         "title": {
          "text": "rent_proportion"
         }
        },
        "yaxis": {
         "anchor": "x",
         "domain": [
          0,
          1
         ],
         "title": {
          "text": "crime_rate"
         }
        }
       }
      }
     },
     "metadata": {},
     "output_type": "display_data"
    },
    {
     "data": {
      "application/vnd.plotly.v1+json": {
       "config": {
        "plotlyServerURL": "https://plot.ly"
       },
       "data": [
        {
         "hovertemplate": "unemployment_rate=%{x}<br>crime_rate=%{y}<extra></extra>",
         "legendgroup": "",
         "marker": {
          "color": "#636efa",
          "symbol": "circle"
         },
         "mode": "markers",
         "name": "",
         "showlegend": false,
         "type": "scattergl",
         "x": {
          "bdata": "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",
          "dtype": "f8"
         },
         "xaxis": "x",
         "y": {
          "bdata": "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",
          "dtype": "f8"
         },
         "yaxis": "y"
        }
       ],
       "layout": {
        "legend": {
         "tracegroupgap": 0
        },
        "template": {
         "data": {
          "bar": [
           {
            "error_x": {
             "color": "#2a3f5f"
            },
            "error_y": {
             "color": "#2a3f5f"
            },
            "marker": {
             "line": {
              "color": "#E5ECF6",
              "width": 0.5
             },
             "pattern": {
              "fillmode": "overlay",
              "size": 10,
              "solidity": 0.2
             }
            },
            "type": "bar"
           }
          ],
          "barpolar": [
           {
            "marker": {
             "line": {
              "color": "#E5ECF6",
              "width": 0.5
             },
             "pattern": {
              "fillmode": "overlay",
              "size": 10,
              "solidity": 0.2
             }
            },
            "type": "barpolar"
           }
          ],
          "carpet": [
           {
            "aaxis": {
             "endlinecolor": "#2a3f5f",
             "gridcolor": "white",
             "linecolor": "white",
             "minorgridcolor": "white",
             "startlinecolor": "#2a3f5f"
            },
            "baxis": {
             "endlinecolor": "#2a3f5f",
             "gridcolor": "white",
             "linecolor": "white",
             "minorgridcolor": "white",
             "startlinecolor": "#2a3f5f"
            },
            "type": "carpet"
           }
          ],
          "choropleth": [
           {
            "colorbar": {
             "outlinewidth": 0,
             "ticks": ""
            },
            "type": "choropleth"
           }
          ],
          "contour": [
           {
            "colorbar": {
             "outlinewidth": 0,
             "ticks": ""
            },
            "colorscale": [
             [
              0,
              "#0d0887"
             ],
             [
              0.1111111111111111,
              "#46039f"
             ],
             [
              0.2222222222222222,
              "#7201a8"
             ],
             [
              0.3333333333333333,
              "#9c179e"
             ],
             [
              0.4444444444444444,
              "#bd3786"
             ],
             [
              0.5555555555555556,
              "#d8576b"
             ],
             [
              0.6666666666666666,
              "#ed7953"
             ],
             [
              0.7777777777777778,
              "#fb9f3a"
             ],
             [
              0.8888888888888888,
              "#fdca26"
             ],
             [
              1,
              "#f0f921"
             ]
            ],
            "type": "contour"
           }
          ],
          "contourcarpet": [
           {
            "colorbar": {
             "outlinewidth": 0,
             "ticks": ""
            },
            "type": "contourcarpet"
           }
          ],
          "heatmap": [
           {
            "colorbar": {
             "outlinewidth": 0,
             "ticks": ""
            },
            "colorscale": [
             [
              0,
              "#0d0887"
             ],
             [
              0.1111111111111111,
              "#46039f"
             ],
             [
              0.2222222222222222,
              "#7201a8"
             ],
             [
              0.3333333333333333,
              "#9c179e"
             ],
             [
              0.4444444444444444,
              "#bd3786"
             ],
             [
              0.5555555555555556,
              "#d8576b"
             ],
             [
              0.6666666666666666,
              "#ed7953"
             ],
             [
              0.7777777777777778,
              "#fb9f3a"
             ],
             [
              0.8888888888888888,
              "#fdca26"
             ],
             [
              1,
              "#f0f921"
             ]
            ],
            "type": "heatmap"
           }
          ],
          "histogram": [
           {
            "marker": {
             "pattern": {
              "fillmode": "overlay",
              "size": 10,
              "solidity": 0.2
             }
            },
            "type": "histogram"
           }
          ],
          "histogram2d": [
           {
            "colorbar": {
             "outlinewidth": 0,
             "ticks": ""
            },
            "colorscale": [
             [
              0,
              "#0d0887"
             ],
             [
              0.1111111111111111,
              "#46039f"
             ],
             [
              0.2222222222222222,
              "#7201a8"
             ],
             [
              0.3333333333333333,
              "#9c179e"
             ],
             [
              0.4444444444444444,
              "#bd3786"
             ],
             [
              0.5555555555555556,
              "#d8576b"
             ],
             [
              0.6666666666666666,
              "#ed7953"
             ],
             [
              0.7777777777777778,
              "#fb9f3a"
             ],
             [
              0.8888888888888888,
              "#fdca26"
             ],
             [
              1,
              "#f0f921"
             ]
            ],
            "type": "histogram2d"
           }
          ],
          "histogram2dcontour": [
           {
            "colorbar": {
             "outlinewidth": 0,
             "ticks": ""
            },
            "colorscale": [
             [
              0,
              "#0d0887"
             ],
             [
              0.1111111111111111,
              "#46039f"
             ],
             [
              0.2222222222222222,
              "#7201a8"
             ],
             [
              0.3333333333333333,
              "#9c179e"
             ],
             [
              0.4444444444444444,
              "#bd3786"
             ],
             [
              0.5555555555555556,
              "#d8576b"
             ],
             [
              0.6666666666666666,
              "#ed7953"
             ],
             [
              0.7777777777777778,
              "#fb9f3a"
             ],
             [
              0.8888888888888888,
              "#fdca26"
             ],
             [
              1,
              "#f0f921"
             ]
            ],
            "type": "histogram2dcontour"
           }
          ],
          "mesh3d": [
           {
            "colorbar": {
             "outlinewidth": 0,
             "ticks": ""
            },
            "type": "mesh3d"
           }
          ],
          "parcoords": [
           {
            "line": {
             "colorbar": {
              "outlinewidth": 0,
              "ticks": ""
             }
            },
            "type": "parcoords"
           }
          ],
          "pie": [
           {
            "automargin": true,
            "type": "pie"
           }
          ],
          "scatter": [
           {
            "fillpattern": {
             "fillmode": "overlay",
             "size": 10,
             "solidity": 0.2
            },
            "type": "scatter"
           }
          ],
          "scatter3d": [
           {
            "line": {
             "colorbar": {
              "outlinewidth": 0,
              "ticks": ""
             }
            },
            "marker": {
             "colorbar": {
              "outlinewidth": 0,
              "ticks": ""
             }
            },
            "type": "scatter3d"
           }
          ],
          "scattercarpet": [
           {
            "marker": {
             "colorbar": {
              "outlinewidth": 0,
              "ticks": ""
             }
            },
            "type": "scattercarpet"
           }
          ],
          "scattergeo": [
           {
            "marker": {
             "colorbar": {
              "outlinewidth": 0,
              "ticks": ""
             }
            },
            "type": "scattergeo"
           }
          ],
          "scattergl": [
           {
            "marker": {
             "colorbar": {
              "outlinewidth": 0,
              "ticks": ""
             }
            },
            "type": "scattergl"
           }
          ],
          "scattermap": [
           {
            "marker": {
             "colorbar": {
              "outlinewidth": 0,
              "ticks": ""
             }
            },
            "type": "scattermap"
           }
          ],
          "scattermapbox": [
           {
            "marker": {
             "colorbar": {
              "outlinewidth": 0,
              "ticks": ""
             }
            },
            "type": "scattermapbox"
           }
          ],
          "scatterpolar": [
           {
            "marker": {
             "colorbar": {
              "outlinewidth": 0,
              "ticks": ""
             }
            },
            "type": "scatterpolar"
           }
          ],
          "scatterpolargl": [
           {
            "marker": {
             "colorbar": {
              "outlinewidth": 0,
              "ticks": ""
             }
            },
            "type": "scatterpolargl"
           }
          ],
          "scatterternary": [
           {
            "marker": {
             "colorbar": {
              "outlinewidth": 0,
              "ticks": ""
             }
            },
            "type": "scatterternary"
           }
          ],
          "surface": [
           {
            "colorbar": {
             "outlinewidth": 0,
             "ticks": ""
            },
            "colorscale": [
             [
              0,
              "#0d0887"
             ],
             [
              0.1111111111111111,
              "#46039f"
             ],
             [
              0.2222222222222222,
              "#7201a8"
             ],
             [
              0.3333333333333333,
              "#9c179e"
             ],
             [
              0.4444444444444444,
              "#bd3786"
             ],
             [
              0.5555555555555556,
              "#d8576b"
             ],
             [
              0.6666666666666666,
              "#ed7953"
             ],
             [
              0.7777777777777778,
              "#fb9f3a"
             ],
             [
              0.8888888888888888,
              "#fdca26"
             ],
             [
              1,
              "#f0f921"
             ]
            ],
            "type": "surface"
           }
          ],
          "table": [
           {
            "cells": {
             "fill": {
              "color": "#EBF0F8"
             },
             "line": {
              "color": "white"
             }
            },
            "header": {
             "fill": {
              "color": "#C8D4E3"
             },
             "line": {
              "color": "white"
             }
            },
            "type": "table"
           }
          ]
         },
         "layout": {
          "annotationdefaults": {
           "arrowcolor": "#2a3f5f",
           "arrowhead": 0,
           "arrowwidth": 1
          },
          "autotypenumbers": "strict",
          "coloraxis": {
           "colorbar": {
            "outlinewidth": 0,
            "ticks": ""
           }
          },
          "colorscale": {
           "diverging": [
            [
             0,
             "#8e0152"
            ],
            [
             0.1,
             "#c51b7d"
            ],
            [
             0.2,
             "#de77ae"
            ],
            [
             0.3,
             "#f1b6da"
            ],
            [
             0.4,
             "#fde0ef"
            ],
            [
             0.5,
             "#f7f7f7"
            ],
            [
             0.6,
             "#e6f5d0"
            ],
            [
             0.7,
             "#b8e186"
            ],
            [
             0.8,
             "#7fbc41"
            ],
            [
             0.9,
             "#4d9221"
            ],
            [
             1,
             "#276419"
            ]
           ],
           "sequential": [
            [
             0,
             "#0d0887"
            ],
            [
             0.1111111111111111,
             "#46039f"
            ],
            [
             0.2222222222222222,
             "#7201a8"
            ],
            [
             0.3333333333333333,
             "#9c179e"
            ],
            [
             0.4444444444444444,
             "#bd3786"
            ],
            [
             0.5555555555555556,
             "#d8576b"
            ],
            [
             0.6666666666666666,
             "#ed7953"
            ],
            [
             0.7777777777777778,
             "#fb9f3a"
            ],
            [
             0.8888888888888888,
             "#fdca26"
            ],
            [
             1,
             "#f0f921"
            ]
           ],
           "sequentialminus": [
            [
             0,
             "#0d0887"
            ],
            [
             0.1111111111111111,
             "#46039f"
            ],
            [
             0.2222222222222222,
             "#7201a8"
            ],
            [
             0.3333333333333333,
             "#9c179e"
            ],
            [
             0.4444444444444444,
             "#bd3786"
            ],
            [
             0.5555555555555556,
             "#d8576b"
            ],
            [
             0.6666666666666666,
             "#ed7953"
            ],
            [
             0.7777777777777778,
             "#fb9f3a"
            ],
            [
             0.8888888888888888,
             "#fdca26"
            ],
            [
             1,
             "#f0f921"
            ]
           ]
          },
          "colorway": [
           "#636efa",
           "#EF553B",
           "#00cc96",
           "#ab63fa",
           "#FFA15A",
           "#19d3f3",
           "#FF6692",
           "#B6E880",
           "#FF97FF",
           "#FECB52"
          ],
          "font": {
           "color": "#2a3f5f"
          },
          "geo": {
           "bgcolor": "white",
           "lakecolor": "white",
           "landcolor": "#E5ECF6",
           "showlakes": true,
           "showland": true,
           "subunitcolor": "white"
          },
          "hoverlabel": {
           "align": "left"
          },
          "hovermode": "closest",
          "mapbox": {
           "style": "light"
          },
          "paper_bgcolor": "white",
          "plot_bgcolor": "#E5ECF6",
          "polar": {
           "angularaxis": {
            "gridcolor": "white",
            "linecolor": "white",
            "ticks": ""
           },
           "bgcolor": "#E5ECF6",
           "radialaxis": {
            "gridcolor": "white",
            "linecolor": "white",
            "ticks": ""
           }
          },
          "scene": {
           "xaxis": {
            "backgroundcolor": "#E5ECF6",
            "gridcolor": "white",
            "gridwidth": 2,
            "linecolor": "white",
            "showbackground": true,
            "ticks": "",
            "zerolinecolor": "white"
           },
           "yaxis": {
            "backgroundcolor": "#E5ECF6",
            "gridcolor": "white",
            "gridwidth": 2,
            "linecolor": "white",
            "showbackground": true,
            "ticks": "",
            "zerolinecolor": "white"
           },
           "zaxis": {
            "backgroundcolor": "#E5ECF6",
            "gridcolor": "white",
            "gridwidth": 2,
            "linecolor": "white",
            "showbackground": true,
            "ticks": "",
            "zerolinecolor": "white"
           }
          },
          "shapedefaults": {
           "line": {
            "color": "#2a3f5f"
           }
          },
          "ternary": {
           "aaxis": {
            "gridcolor": "white",
            "linecolor": "white",
            "ticks": ""
           },
           "baxis": {
            "gridcolor": "white",
            "linecolor": "white",
            "ticks": ""
           },
           "bgcolor": "#E5ECF6",
           "caxis": {
            "gridcolor": "white",
            "linecolor": "white",
            "ticks": ""
           }
          },
          "title": {
           "x": 0.05
          },
          "xaxis": {
           "automargin": true,
           "gridcolor": "white",
           "linecolor": "white",
           "ticks": "",
           "title": {
            "standoff": 15
           },
           "zerolinecolor": "white",
           "zerolinewidth": 2
          },
          "yaxis": {
           "automargin": true,
           "gridcolor": "white",
           "linecolor": "white",
           "ticks": "",
           "title": {
            "standoff": 15
           },
           "zerolinecolor": "white",
           "zerolinewidth": 2
          }
         }
        },
        "title": {
         "text": "Scatterplot (corr=0.434)"
        },
        "xaxis": {
         "anchor": "y",
         "domain": [
          0,
          1
         ],
         "title": {
          "text": "unemployment_rate"
         }
        },
        "yaxis": {
         "anchor": "x",
         "domain": [
          0,
          1
         ],
         "title": {
          "text": "crime_rate"
         }
        }
       }
      }
     },
     "metadata": {},
     "output_type": "display_data"
    }
   ],
   "source": [
    "stat_dude = StatWhiz(data=pd.read_sql(con=engine, sql='''\n",
    "\n",
    "WITH crime_CTE AS (\n",
    "  SELECT community_board, CAST(YEAR AS int) AS year, SUM(crimes) AS crimes FROM (\n",
    "  SELECT \n",
    "  pd.community_board, \n",
    "  pd.precinct,\n",
    "  cd.YEAR,\n",
    "  crimes/COUNT(community_board) OVER(PARTITION BY cd.YEAR,pd.precinct) AS crimes\n",
    "  FROM precinct_data pd \n",
    "  LEFT JOIN (\n",
    "    select\n",
    "    cd.YEAR,\n",
    "    cd.pct,\n",
    "    SUM(count) AS crimes\n",
    "    FROM crime_data cd\n",
    "    --WHERE crime_category = 'major'\n",
    "    GROUP BY 1,2\n",
    "  ) cd ON pd.precinct  = cd.pct \n",
    ") sq GROUP BY 1,2\n",
    "),\n",
    "pop_data AS (\n",
    "                                  \n",
    "  SELECT \n",
    "  un.YEAR,\n",
    "  un.community_board,\n",
    "  un.unemployment_rate,\n",
    "  rd.rent/(inc.median_income/12) AS rent_proportion\n",
    "  FROM unemployment_rate_data un\n",
    "  LEFT JOIN rent_data rd ON un.year = rd.year AND un.community_board = rd.community_board \n",
    "  LEFT JOIN median_income_data inc ON un.year = inc.YEAR AND un.community_board  = inc.community_board\n",
    "),\n",
    "population_CTE AS (\n",
    "  SELECT \n",
    "  CAST(dd.YEAR AS int) AS year,\n",
    "  dd.community_board,\n",
    "  SUM(dd.value) AS population\n",
    "  FROM demo_data dd \n",
    "  WHERE metric = 'Population'\n",
    "  GROUP BY 1,2\n",
    ")\n",
    "\n",
    "  SELECT \n",
    "  c.community_board,\n",
    "  c.crimes,\n",
    "  c.YEAR,\n",
    "  c.crimes/p.population * 100000 AS crime_rate,\n",
    "  pd.rent_proportion,\n",
    "  pd.unemployment_rate,\n",
    "  FROM crime_CTE c\n",
    "  LEFT JOIN population_CTE p ON c.YEAR = p.YEAR AND c.community_board = p.community_board\n",
    "  LEFT JOIN pop_data pd ON c.YEAR = pd.YEAR and c.community_board = pd.community_board\n",
    "  WHERE c.YEAR >= 2007\n",
    "\n",
    "\n",
    "\n",
    "\n",
    "''')\n",
    ")\n",
    "\n",
    "\n",
    "stat_dude.scatter_plot(y=\"crime_rate\",x=\"rent_proportion\")\n",
    "stat_dude.scatter_plot(y=\"crime_rate\",x=\"unemployment_rate\")\n",
    "\n",
    "\n"
   ]
  },
  {
   "cell_type": "markdown",
   "id": "c122ea2b",
   "metadata": {},
   "source": [
    "## 2.5: Crime and Race"
   ]
  },
  {
   "cell_type": "code",
   "execution_count": 1,
   "id": "29dd1c5f",
   "metadata": {},
   "outputs": [
    {
     "ename": "NameError",
     "evalue": "name 'StatWhiz' is not defined",
     "output_type": "error",
     "traceback": [
      "\u001b[1;31m---------------------------------------------------------------------------\u001b[0m",
      "\u001b[1;31mNameError\u001b[0m                                 Traceback (most recent call last)",
      "Cell \u001b[1;32mIn[1], line 1\u001b[0m\n\u001b[1;32m----> 1\u001b[0m stat_dude \u001b[38;5;241m=\u001b[39m \u001b[43mStatWhiz\u001b[49m(data\u001b[38;5;241m=\u001b[39mpd\u001b[38;5;241m.\u001b[39mread_sql(con\u001b[38;5;241m=\u001b[39mengine, sql\u001b[38;5;241m=\u001b[39m\u001b[38;5;124m'''\u001b[39m\n\u001b[0;32m      2\u001b[0m \n\u001b[0;32m      3\u001b[0m \u001b[38;5;124mWITH crime_CTE AS (\u001b[39m\n\u001b[0;32m      4\u001b[0m \u001b[38;5;124m  SELECT community_board, CAST(YEAR AS int) AS year, SUM(crimes) AS crimes FROM (\u001b[39m\n\u001b[0;32m      5\u001b[0m \u001b[38;5;124m  SELECT \u001b[39m\n\u001b[0;32m      6\u001b[0m \u001b[38;5;124m  pd.community_board, \u001b[39m\n\u001b[0;32m      7\u001b[0m \u001b[38;5;124m  pd.precinct,\u001b[39m\n\u001b[0;32m      8\u001b[0m \u001b[38;5;124m  cd.YEAR,\u001b[39m\n\u001b[0;32m      9\u001b[0m \u001b[38;5;124m  crimes/COUNT(community_board) OVER(PARTITION BY cd.YEAR,pd.precinct) AS crimes\u001b[39m\n\u001b[0;32m     10\u001b[0m \u001b[38;5;124m  FROM precinct_data pd \u001b[39m\n\u001b[0;32m     11\u001b[0m \u001b[38;5;124m  LEFT JOIN (\u001b[39m\n\u001b[0;32m     12\u001b[0m \u001b[38;5;124m    select\u001b[39m\n\u001b[0;32m     13\u001b[0m \u001b[38;5;124m    cd.YEAR,\u001b[39m\n\u001b[0;32m     14\u001b[0m \u001b[38;5;124m    cd.pct,\u001b[39m\n\u001b[0;32m     15\u001b[0m \u001b[38;5;124m    SUM(count) AS crimes\u001b[39m\n\u001b[0;32m     16\u001b[0m \u001b[38;5;124m    FROM crime_data cd\u001b[39m\n\u001b[0;32m     17\u001b[0m \u001b[38;5;124m    --WHERE crime_category = \u001b[39m\u001b[38;5;124m'\u001b[39m\u001b[38;5;124mmajor\u001b[39m\u001b[38;5;124m'\u001b[39m\n\u001b[0;32m     18\u001b[0m \u001b[38;5;124m    GROUP BY 1,2\u001b[39m\n\u001b[0;32m     19\u001b[0m \u001b[38;5;124m  ) cd ON pd.precinct  = cd.pct \u001b[39m\n\u001b[0;32m     20\u001b[0m \u001b[38;5;124m) sq GROUP BY 1,2\u001b[39m\n\u001b[0;32m     21\u001b[0m \u001b[38;5;124m),\u001b[39m\n\u001b[0;32m     22\u001b[0m \n\u001b[0;32m     23\u001b[0m \u001b[38;5;124mpopulation_CTE AS (\u001b[39m\n\u001b[0;32m     24\u001b[0m \u001b[38;5;124m  SELECT \u001b[39m\n\u001b[0;32m     25\u001b[0m \u001b[38;5;124m  CAST(dd.YEAR AS int) AS year,\u001b[39m\n\u001b[0;32m     26\u001b[0m \u001b[38;5;124m  dd.community_board,\u001b[39m\n\u001b[0;32m     27\u001b[0m \u001b[38;5;124m  SUM(IF(metric = \u001b[39m\u001b[38;5;124m'\u001b[39m\u001b[38;5;124mPopulation\u001b[39m\u001b[38;5;124m'\u001b[39m\u001b[38;5;124m,dd.value,0)) AS population,\u001b[39m\n\u001b[0;32m     28\u001b[0m \u001b[38;5;124m  SUM(IF(metric = \u001b[39m\u001b[38;5;124m'\u001b[39m\u001b[38;5;124mWhite Population\u001b[39m\u001b[38;5;124m'\u001b[39m\u001b[38;5;124m,dd.value,0)) AS white_population\u001b[39m\n\u001b[0;32m     29\u001b[0m \u001b[38;5;124m  FROM demo_data dd \u001b[39m\n\u001b[0;32m     30\u001b[0m \u001b[38;5;124m  GROUP BY 1,2\u001b[39m\n\u001b[0;32m     31\u001b[0m \u001b[38;5;124m)\u001b[39m\n\u001b[0;32m     32\u001b[0m \u001b[38;5;124mSELECT\u001b[39m\n\u001b[0;32m     33\u001b[0m \u001b[38;5;124m  year,\u001b[39m\n\u001b[0;32m     34\u001b[0m \u001b[38;5;124m  AVG(CASE WHEN white_majority = \u001b[39m\u001b[38;5;124m'\u001b[39m\u001b[38;5;124mWhite-Majority\u001b[39m\u001b[38;5;124m'\u001b[39m\u001b[38;5;124m THEN crime_rate END) AS avg_crime_rate_white_majority,\u001b[39m\n\u001b[0;32m     35\u001b[0m \u001b[38;5;124m  AVG(CASE WHEN white_majority = \u001b[39m\u001b[38;5;124m'\u001b[39m\u001b[38;5;124mNon-White Majority\u001b[39m\u001b[38;5;124m'\u001b[39m\u001b[38;5;124m THEN crime_rate END) AS avg_crime_rate_non_white_majority\u001b[39m\n\u001b[0;32m     36\u001b[0m \n\u001b[0;32m     37\u001b[0m \n\u001b[0;32m     38\u001b[0m \u001b[38;5;124mFROM (\u001b[39m\n\u001b[0;32m     39\u001b[0m \u001b[38;5;124m  SELECT \u001b[39m\n\u001b[0;32m     40\u001b[0m \u001b[38;5;124m  c.community_board,\u001b[39m\n\u001b[0;32m     41\u001b[0m \u001b[38;5;124m  c.crimes,\u001b[39m\n\u001b[0;32m     42\u001b[0m \u001b[38;5;124m  c.YEAR,\u001b[39m\n\u001b[0;32m     43\u001b[0m \u001b[38;5;124m  c.crimes/p.population * 100000 AS crime_rate,\u001b[39m\n\u001b[0;32m     44\u001b[0m \u001b[38;5;124m  IF(white_population/population >  0.5, \u001b[39m\u001b[38;5;124m'\u001b[39m\u001b[38;5;124mWhite-Majority\u001b[39m\u001b[38;5;124m'\u001b[39m\u001b[38;5;124m, \u001b[39m\u001b[38;5;124m'\u001b[39m\u001b[38;5;124mNon-White Majority\u001b[39m\u001b[38;5;124m'\u001b[39m\u001b[38;5;124m) as white_majority\u001b[39m\n\u001b[0;32m     45\u001b[0m \u001b[38;5;124m  FROM crime_CTE c\u001b[39m\n\u001b[0;32m     46\u001b[0m \u001b[38;5;124m  LEFT JOIN population_CTE p ON c.YEAR = p.YEAR AND c.community_board = p.community_board\u001b[39m\n\u001b[0;32m     47\u001b[0m \u001b[38;5;124m  WHERE c.YEAR >= 2007\u001b[39m\n\u001b[0;32m     48\u001b[0m \u001b[38;5;124m)\u001b[39m\n\u001b[0;32m     49\u001b[0m \u001b[38;5;124mGROUP BY year\u001b[39m\n\u001b[0;32m     50\u001b[0m \u001b[38;5;124mORDER BY year\u001b[39m\n\u001b[0;32m     51\u001b[0m \n\u001b[0;32m     52\u001b[0m \n\u001b[0;32m     53\u001b[0m \u001b[38;5;124m'''\u001b[39m)\n\u001b[0;32m     54\u001b[0m )\n\u001b[0;32m     55\u001b[0m stat_dude\u001b[38;5;241m.\u001b[39mline_graph(y\u001b[38;5;241m=\u001b[39m[\u001b[38;5;124m\"\u001b[39m\u001b[38;5;124mavg_crime_rate_white_majority\u001b[39m\u001b[38;5;124m\"\u001b[39m,\u001b[38;5;124m\"\u001b[39m\u001b[38;5;124mavg_crime_rate_non_white_majority\u001b[39m\u001b[38;5;124m\"\u001b[39m],x\u001b[38;5;241m=\u001b[39m\u001b[38;5;124m'\u001b[39m\u001b[38;5;124myear\u001b[39m\u001b[38;5;124m'\u001b[39m)\n",
      "\u001b[1;31mNameError\u001b[0m: name 'StatWhiz' is not defined"
     ]
    }
   ],
   "source": [
    "stat_dude = StatWhiz(data=pd.read_sql(con=engine, sql='''\n",
    "\n",
    "WITH crime_CTE AS (\n",
    "  SELECT community_board, CAST(YEAR AS int) AS year, SUM(crimes) AS crimes FROM (\n",
    "  SELECT \n",
    "  pd.community_board, \n",
    "  pd.precinct,\n",
    "  cd.YEAR,\n",
    "  crimes/COUNT(community_board) OVER(PARTITION BY cd.YEAR,pd.precinct) AS crimes\n",
    "  FROM precinct_data pd \n",
    "  LEFT JOIN (\n",
    "    select\n",
    "    cd.YEAR,\n",
    "    cd.pct,\n",
    "    SUM(count) AS crimes\n",
    "    FROM crime_data cd\n",
    "    --WHERE crime_category = 'major'\n",
    "    GROUP BY 1,2\n",
    "  ) cd ON pd.precinct  = cd.pct \n",
    ") sq GROUP BY 1,2\n",
    "),\n",
    "\n",
    "population_CTE AS (\n",
    "  SELECT \n",
    "  CAST(dd.YEAR AS int) AS year,\n",
    "  dd.community_board,\n",
    "  SUM(IF(metric = 'Population',dd.value,0)) AS population,\n",
    "  SUM(IF(metric = 'White Population',dd.value,0)) AS white_population\n",
    "  FROM demo_data dd \n",
    "  GROUP BY 1,2\n",
    ")\n",
    "SELECT\n",
    "  year,\n",
    "  AVG(CASE WHEN white_majority = 'White-Majority' THEN crime_rate END) AS avg_crime_rate_white_majority,\n",
    "  AVG(CASE WHEN white_majority = 'Non-White Majority' THEN crime_rate END) AS avg_crime_rate_non_white_majority\n",
    "\n",
    "\n",
    "FROM (\n",
    "  SELECT \n",
    "  c.community_board,\n",
    "  c.crimes,\n",
    "  c.YEAR,\n",
    "  c.crimes/p.population * 100000 AS crime_rate,\n",
    "  IF(white_population/population >  0.5, 'White-Majority', 'Non-White Majority') as white_majority\n",
    "  FROM crime_CTE c\n",
    "  LEFT JOIN population_CTE p ON c.YEAR = p.YEAR AND c.community_board = p.community_board\n",
    "  WHERE c.YEAR >= 2007\n",
    ")\n",
    "GROUP BY year\n",
    "ORDER BY year\n",
    "\n",
    "\n",
    "''')\n",
    ")\n",
    "stat_dude.line_graph(y=[\"avg_crime_rate_white_majority\",\"avg_crime_rate_non_white_majority\"],x='year')\n",
    "\n",
    "\n",
    "\n"
   ]
  },
  {
   "cell_type": "markdown",
   "id": "1da9839e",
   "metadata": {},
   "source": [
    "## Extracting as CSV to use in PowerBi"
   ]
  },
  {
   "cell_type": "code",
   "execution_count": 8,
   "id": "407d7dc0",
   "metadata": {},
   "outputs": [],
   "source": [
    "tables = engine.execute(\"\"\"\n",
    "    SELECT table_name FROM information_schema.tables\n",
    "    WHERE table_schema = 'main' AND table_type = 'BASE TABLE'\n",
    "\"\"\").fetchall()\n",
    "\n",
    "\n",
    "table_names = [t[0] for t in tables]\n",
    "\n",
    "\n",
    "dfs = {tbl: engine.execute(f\"SELECT * FROM {tbl}\").fetchdf() for tbl in table_names}\n",
    "for table in table_names:\n",
    "    dfs[table].to_csv(rf'powerbi\\{table}.csv')\n",
    "\n",
    "engine.close()"
   ]
  }
 ],
 "metadata": {
  "kernelspec": {
   "display_name": "tf-gpu",
   "language": "python",
   "name": "python3"
  },
  "language_info": {
   "codemirror_mode": {
    "name": "ipython",
    "version": 3
   },
   "file_extension": ".py",
   "mimetype": "text/x-python",
   "name": "python",
   "nbconvert_exporter": "python",
   "pygments_lexer": "ipython3",
   "version": "3.9.17"
  }
 },
 "nbformat": 4,
 "nbformat_minor": 5
}
